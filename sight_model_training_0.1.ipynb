{
 "cells": [
  {
   "cell_type": "code",
   "execution_count": 100,
   "metadata": {},
   "outputs": [],
   "source": [
    "import csv\n",
    "import numpy as np # linear algebra\n",
    "import pandas as pd # data processing, CSV file I/O (e.g. pd.read_csv)\n",
    "import matplotlib.pyplot as plt\n",
    "import seaborn as sns\n",
    "import pandas as pd\n",
    "import glob\n",
    "import os\n",
    "\n",
    "# Get All tracking data\n",
    "path = r'C:\\Users\\gabri\\OneDrive\\Documentos\\GitHub\\opencv_learning\\tracking_data' # use your path\n",
    "all_files = glob.glob(os.path.join(path , \"*.csv\"))\n",
    "\n",
    "li = []\n",
    "\n",
    "for filename in all_files:\n",
    "    df = pd.read_csv(filename, index_col=None, header=0)\n",
    "    li.append(df)\n",
    "\n",
    "df = pd.concat(li, axis=0, ignore_index=True)\n",
    "# df = pd.read_csv(\"tracking.csv\")\n",
    "df = df.filter(df.columns[1:])\n",
    "\n"
   ]
  },
  {
   "cell_type": "code",
   "execution_count": 101,
   "metadata": {},
   "outputs": [
    {
     "data": {
      "text/html": [
       "<div>\n",
       "<style scoped>\n",
       "    .dataframe tbody tr th:only-of-type {\n",
       "        vertical-align: middle;\n",
       "    }\n",
       "\n",
       "    .dataframe tbody tr th {\n",
       "        vertical-align: top;\n",
       "    }\n",
       "\n",
       "    .dataframe thead th {\n",
       "        text-align: right;\n",
       "    }\n",
       "</style>\n",
       "<table border=\"1\" class=\"dataframe\">\n",
       "  <thead>\n",
       "    <tr style=\"text-align: right;\">\n",
       "      <th></th>\n",
       "      <th>p468</th>\n",
       "      <th>p469</th>\n",
       "      <th>p470</th>\n",
       "      <th>p471</th>\n",
       "      <th>p472</th>\n",
       "      <th>p473</th>\n",
       "      <th>p474</th>\n",
       "      <th>p475</th>\n",
       "      <th>p476</th>\n",
       "      <th>p477</th>\n",
       "      <th>...</th>\n",
       "      <th>p301</th>\n",
       "      <th>p109</th>\n",
       "      <th>p10</th>\n",
       "      <th>p338</th>\n",
       "      <th>p138</th>\n",
       "      <th>p367</th>\n",
       "      <th>p8</th>\n",
       "      <th>p9</th>\n",
       "      <th>p164</th>\n",
       "      <th>plooking_pos</th>\n",
       "    </tr>\n",
       "  </thead>\n",
       "  <tbody>\n",
       "    <tr>\n",
       "      <th>0</th>\n",
       "      <td>[291, 287]</td>\n",
       "      <td>[302, 287]</td>\n",
       "      <td>[291, 277]</td>\n",
       "      <td>[280, 288]</td>\n",
       "      <td>[291, 298]</td>\n",
       "      <td>[412, 286]</td>\n",
       "      <td>[423, 286]</td>\n",
       "      <td>[412, 275]</td>\n",
       "      <td>[402, 285]</td>\n",
       "      <td>[412, 296]</td>\n",
       "      <td>...</td>\n",
       "      <td>[459, 251]</td>\n",
       "      <td>[317, 199]</td>\n",
       "      <td>[350, 198]</td>\n",
       "      <td>[384, 199]</td>\n",
       "      <td>[267, 406]</td>\n",
       "      <td>[445, 407]</td>\n",
       "      <td>[350, 273]</td>\n",
       "      <td>[350, 258]</td>\n",
       "      <td>[349, 385]</td>\n",
       "      <td>[238, 914]</td>\n",
       "    </tr>\n",
       "    <tr>\n",
       "      <th>1</th>\n",
       "      <td>[313, 290]</td>\n",
       "      <td>[325, 290]</td>\n",
       "      <td>[313, 279]</td>\n",
       "      <td>[301, 289]</td>\n",
       "      <td>[313, 300]</td>\n",
       "      <td>[433, 292]</td>\n",
       "      <td>[440, 292]</td>\n",
       "      <td>[431, 283]</td>\n",
       "      <td>[425, 292]</td>\n",
       "      <td>[434, 301]</td>\n",
       "      <td>...</td>\n",
       "      <td>[469, 256]</td>\n",
       "      <td>[334, 201]</td>\n",
       "      <td>[368, 201]</td>\n",
       "      <td>[402, 202]</td>\n",
       "      <td>[273, 403]</td>\n",
       "      <td>[448, 408]</td>\n",
       "      <td>[365, 277]</td>\n",
       "      <td>[366, 262]</td>\n",
       "      <td>[361, 388]</td>\n",
       "      <td>[401, 729]</td>\n",
       "    </tr>\n",
       "  </tbody>\n",
       "</table>\n",
       "<p>2 rows × 25 columns</p>\n",
       "</div>"
      ],
      "text/plain": [
       "         p468        p469        p470        p471        p472        p473  \\\n",
       "0  [291, 287]  [302, 287]  [291, 277]  [280, 288]  [291, 298]  [412, 286]   \n",
       "1  [313, 290]  [325, 290]  [313, 279]  [301, 289]  [313, 300]  [433, 292]   \n",
       "\n",
       "         p474        p475        p476        p477  ...        p301  \\\n",
       "0  [423, 286]  [412, 275]  [402, 285]  [412, 296]  ...  [459, 251]   \n",
       "1  [440, 292]  [431, 283]  [425, 292]  [434, 301]  ...  [469, 256]   \n",
       "\n",
       "         p109         p10        p338        p138        p367          p8  \\\n",
       "0  [317, 199]  [350, 198]  [384, 199]  [267, 406]  [445, 407]  [350, 273]   \n",
       "1  [334, 201]  [368, 201]  [402, 202]  [273, 403]  [448, 408]  [365, 277]   \n",
       "\n",
       "           p9        p164 plooking_pos  \n",
       "0  [350, 258]  [349, 385]   [238, 914]  \n",
       "1  [366, 262]  [361, 388]   [401, 729]  \n",
       "\n",
       "[2 rows x 25 columns]"
      ]
     },
     "execution_count": 101,
     "metadata": {},
     "output_type": "execute_result"
    }
   ],
   "source": [
    "\n",
    "\n",
    "for col in df.columns:\n",
    "    df.rename(columns={col:'p' + col},inplace=True)\n",
    "########################################################################\n",
    "def str_to_list(cell):\n",
    "    cell = ''.join(c for c in cell if c not in \"'[]\")\n",
    "    cell = (cell.split(', '))    \n",
    "    return list(map(int, cell))\n",
    "\n",
    "for c in df.columns:\n",
    "    df[c] = df[c].apply(str_to_list)\n",
    "df.head(2)"
   ]
  },
  {
   "cell_type": "code",
   "execution_count": 102,
   "metadata": {},
   "outputs": [
    {
     "data": {
      "text/html": [
       "<div>\n",
       "<style scoped>\n",
       "    .dataframe tbody tr th:only-of-type {\n",
       "        vertical-align: middle;\n",
       "    }\n",
       "\n",
       "    .dataframe tbody tr th {\n",
       "        vertical-align: top;\n",
       "    }\n",
       "\n",
       "    .dataframe thead th {\n",
       "        text-align: right;\n",
       "    }\n",
       "</style>\n",
       "<table border=\"1\" class=\"dataframe\">\n",
       "  <thead>\n",
       "    <tr style=\"text-align: right;\">\n",
       "      <th></th>\n",
       "      <th>p468_x</th>\n",
       "      <th>p468_y</th>\n",
       "      <th>p469_x</th>\n",
       "      <th>p469_y</th>\n",
       "      <th>p470_x</th>\n",
       "      <th>p470_y</th>\n",
       "      <th>p471_x</th>\n",
       "      <th>p471_y</th>\n",
       "      <th>p472_x</th>\n",
       "      <th>p472_y</th>\n",
       "      <th>...</th>\n",
       "      <th>p367_x</th>\n",
       "      <th>p367_y</th>\n",
       "      <th>p8_x</th>\n",
       "      <th>p8_y</th>\n",
       "      <th>p9_x</th>\n",
       "      <th>p9_y</th>\n",
       "      <th>p164_x</th>\n",
       "      <th>p164_y</th>\n",
       "      <th>plooking_pos_x</th>\n",
       "      <th>plooking_pos_y</th>\n",
       "    </tr>\n",
       "  </thead>\n",
       "  <tbody>\n",
       "    <tr>\n",
       "      <th>0</th>\n",
       "      <td>291</td>\n",
       "      <td>287</td>\n",
       "      <td>302</td>\n",
       "      <td>287</td>\n",
       "      <td>291</td>\n",
       "      <td>277</td>\n",
       "      <td>280</td>\n",
       "      <td>288</td>\n",
       "      <td>291</td>\n",
       "      <td>298</td>\n",
       "      <td>...</td>\n",
       "      <td>445</td>\n",
       "      <td>407</td>\n",
       "      <td>350</td>\n",
       "      <td>273</td>\n",
       "      <td>350</td>\n",
       "      <td>258</td>\n",
       "      <td>349</td>\n",
       "      <td>385</td>\n",
       "      <td>238</td>\n",
       "      <td>914</td>\n",
       "    </tr>\n",
       "    <tr>\n",
       "      <th>1</th>\n",
       "      <td>313</td>\n",
       "      <td>290</td>\n",
       "      <td>325</td>\n",
       "      <td>290</td>\n",
       "      <td>313</td>\n",
       "      <td>279</td>\n",
       "      <td>301</td>\n",
       "      <td>289</td>\n",
       "      <td>313</td>\n",
       "      <td>300</td>\n",
       "      <td>...</td>\n",
       "      <td>448</td>\n",
       "      <td>408</td>\n",
       "      <td>365</td>\n",
       "      <td>277</td>\n",
       "      <td>366</td>\n",
       "      <td>262</td>\n",
       "      <td>361</td>\n",
       "      <td>388</td>\n",
       "      <td>401</td>\n",
       "      <td>729</td>\n",
       "    </tr>\n",
       "  </tbody>\n",
       "</table>\n",
       "<p>2 rows × 50 columns</p>\n",
       "</div>"
      ],
      "text/plain": [
       "   p468_x  p468_y  p469_x  p469_y  p470_x  p470_y  p471_x  p471_y  p472_x  \\\n",
       "0     291     287     302     287     291     277     280     288     291   \n",
       "1     313     290     325     290     313     279     301     289     313   \n",
       "\n",
       "   p472_y  ...  p367_x  p367_y  p8_x  p8_y  p9_x  p9_y  p164_x  p164_y  \\\n",
       "0     298  ...     445     407   350   273   350   258     349     385   \n",
       "1     300  ...     448     408   365   277   366   262     361     388   \n",
       "\n",
       "   plooking_pos_x  plooking_pos_y  \n",
       "0             238             914  \n",
       "1             401             729  \n",
       "\n",
       "[2 rows x 50 columns]"
      ]
     },
     "execution_count": 102,
     "metadata": {},
     "output_type": "execute_result"
    }
   ],
   "source": [
    "df_open = df.copy()\n",
    "\n",
    "f =[]\n",
    "for c in df.columns:\n",
    "    new_columns = [(c +\"_x\"),(c +\"_y\")]      \n",
    "    df_open[new_columns] = pd.DataFrame(df_open[c].tolist(), index= df.index)\n",
    "df_open = df_open.drop(df.columns, axis=1)\n",
    "\n",
    "df_open.head(2)   "
   ]
  },
  {
   "cell_type": "code",
   "execution_count": 103,
   "metadata": {},
   "outputs": [],
   "source": [
    "from sklearn.preprocessing import OneHotEncoder, LabelEncoder\n",
    "from sklearn.model_selection import train_test_split\n",
    "# from sklearn.tree import DecisionTreeClassifier\n",
    "# from sklearn.ensemble import RandomForestClassifier\n",
    "# from sklearn.naive_bayes import GaussianNB\n",
    "# from sklearn.neighbors import KNeighborsClassifier\n",
    "# from sklearn.svm import SVC\n",
    "from sklearn.metrics import confusion_matrix, accuracy_score, precision_recall_curve, mean_squared_error, mean_absolute_error, r2_score\n",
    "from sklearn.linear_model import LinearRegression, Ridge, RidgeCV, SGDRegressor"
   ]
  },
  {
   "cell_type": "markdown",
   "metadata": {},
   "source": [
    "### Prep Data"
   ]
  },
  {
   "cell_type": "code",
   "execution_count": 104,
   "metadata": {},
   "outputs": [
    {
     "data": {
      "text/plain": [
       "((12000, 48), (8000, 48), (12000,), (8000,))"
      ]
     },
     "execution_count": 104,
     "metadata": {},
     "output_type": "execute_result"
    }
   ],
   "source": [
    "df_train = df_open.copy()\n",
    "y = df_train[\"plooking_pos_x\"]\n",
    "X = df_train.drop([\"plooking_pos_x\", \"plooking_pos_y\"], axis = 1)\n",
    "X_train, X_test, y_train, y_test = train_test_split(X, y, test_size = 0.4, random_state = 1)\n",
    "X_train.shape, X_test.shape, y_train.shape, y_test.shape"
   ]
  },
  {
   "cell_type": "markdown",
   "metadata": {},
   "source": [
    "## Decision tree classifier"
   ]
  },
  {
   "cell_type": "code",
   "execution_count": 105,
   "metadata": {},
   "outputs": [],
   "source": [
    "# decision_tree_model = DecisionTreeClassifier(random_state = 2)\n",
    "# decision_tree_model.fit(X_train, y_train)\n",
    "# y_pred = decision_tree_model.predict(X_test)\n",
    "# decision_tree_model_acc = accuracy_score(y_pred, y_test) * 100\n",
    "# print(\"Accuracy:\", decision_tree_model_acc)"
   ]
  },
  {
   "cell_type": "markdown",
   "metadata": {},
   "source": [
    "### Random forest classifier"
   ]
  },
  {
   "cell_type": "code",
   "execution_count": 106,
   "metadata": {},
   "outputs": [],
   "source": [
    "# random_forest_model = RandomForestClassifier(criterion='gini',\n",
    "#                                             n_estimators=1750,\n",
    "#                                             max_depth=7,\n",
    "#                                             min_samples_split=6,\n",
    "#                                             min_samples_leaf=6,\n",
    "#                                             max_features='auto',\n",
    "#                                             verbose=1,\n",
    "#                                             random_state = 3)\n",
    "# random_forest_model.fit(X_train, y_train)\n",
    "# y_pred = random_forest_model.predict(X_test)\n",
    "# random_forest_model_acc = accuracy_score(y_pred, y_test) * 100\n",
    "# print(\"Accuracy:\", random_forest_model_acc)"
   ]
  },
  {
   "cell_type": "markdown",
   "metadata": {},
   "source": [
    "### Naive Bayes classifier"
   ]
  },
  {
   "cell_type": "code",
   "execution_count": 107,
   "metadata": {},
   "outputs": [],
   "source": [
    "# NB_model = GaussianNB()\n",
    "# NB_model.fit(X_train, y_train)\n",
    "# y_pred = NB_model.predict(X_test)\n",
    "# NB_model_acc = accuracy_score(y_pred, y_test) * 100\n",
    "# print(\"Accuracy:\", NB_model_acc)"
   ]
  },
  {
   "cell_type": "markdown",
   "metadata": {},
   "source": [
    "### K-nearest neighbours classifier"
   ]
  },
  {
   "cell_type": "code",
   "execution_count": 108,
   "metadata": {},
   "outputs": [],
   "source": [
    "# knn_model = KNeighborsClassifier(n_neighbors = 8)\n",
    "# knn_model.fit(X_train, y_train)\n",
    "# y_pred = knn_model.predict(X_test)\n",
    "# knn_model_acc = accuracy_score(y_pred, y_test) * 100\n",
    "# print(\"Accuracy:\", knn_model_acc)"
   ]
  },
  {
   "cell_type": "markdown",
   "metadata": {},
   "source": [
    "### Support vector machines"
   ]
  },
  {
   "cell_type": "code",
   "execution_count": 109,
   "metadata": {},
   "outputs": [],
   "source": [
    "# svm_model = SVC()\n",
    "# svm_model.fit(X_train, y_train)\n",
    "# y_pred = svm_model.predict(X_test)\n",
    "# svm_model_acc = accuracy_score(y_pred, y_test) * 100\n",
    "# print(\"Accuracy:\", svm_model_acc)"
   ]
  },
  {
   "cell_type": "code",
   "execution_count": 110,
   "metadata": {},
   "outputs": [],
   "source": [
    "# all_models = pd.DataFrame({\n",
    "#     \"Model\" : [\"Decision tree classifier\", \"Random forest classifier\", \"Naive Bayes classifier\", \"KNN\", \"SVM\"],\n",
    "#     \"Accuracy score\" : [decision_tree_model_acc, random_forest_model_acc, NB_model_acc, knn_model_acc, svm_model_acc]\n",
    "# })\n",
    "# all_models.sort_values(by = \"Accuracy score\")"
   ]
  },
  {
   "cell_type": "markdown",
   "metadata": {},
   "source": [
    "### LinearRegression"
   ]
  },
  {
   "cell_type": "code",
   "execution_count": 111,
   "metadata": {},
   "outputs": [
    {
     "data": {
      "text/html": [
       "<div>\n",
       "<style scoped>\n",
       "    .dataframe tbody tr th:only-of-type {\n",
       "        vertical-align: middle;\n",
       "    }\n",
       "\n",
       "    .dataframe tbody tr th {\n",
       "        vertical-align: top;\n",
       "    }\n",
       "\n",
       "    .dataframe thead th {\n",
       "        text-align: right;\n",
       "    }\n",
       "</style>\n",
       "<table border=\"1\" class=\"dataframe\">\n",
       "  <thead>\n",
       "    <tr style=\"text-align: right;\">\n",
       "      <th></th>\n",
       "      <th>Metric</th>\n",
       "      <th>Accuracy score</th>\n",
       "    </tr>\n",
       "  </thead>\n",
       "  <tbody>\n",
       "    <tr>\n",
       "      <th>3</th>\n",
       "      <td>R2</td>\n",
       "      <td>0.938017</td>\n",
       "    </tr>\n",
       "    <tr>\n",
       "      <th>0</th>\n",
       "      <td>MAE</td>\n",
       "      <td>74.954325</td>\n",
       "    </tr>\n",
       "    <tr>\n",
       "      <th>2</th>\n",
       "      <td>RMSE</td>\n",
       "      <td>131.949737</td>\n",
       "    </tr>\n",
       "    <tr>\n",
       "      <th>1</th>\n",
       "      <td>MSE</td>\n",
       "      <td>17410.733145</td>\n",
       "    </tr>\n",
       "  </tbody>\n",
       "</table>\n",
       "</div>"
      ],
      "text/plain": [
       "  Metric  Accuracy score\n",
       "3     R2        0.938017\n",
       "0    MAE       74.954325\n",
       "2   RMSE      131.949737\n",
       "1    MSE    17410.733145"
      ]
     },
     "execution_count": 111,
     "metadata": {},
     "output_type": "execute_result"
    }
   ],
   "source": [
    "LinReg = LinearRegression().fit(X_train, y_train)\n",
    "LinReg.score(X_train, y_train)\n",
    "# LinReg.coef_\n",
    "# LinReg.intercept_\n",
    "y_pred = LinReg.predict(X_test)\n",
    "\n",
    "mae_acc = mean_absolute_error(y_pred, y_test) \n",
    "mse_acc = mean_squared_error(y_pred, y_test) \n",
    "rmse_acc = mean_squared_error(y_pred, y_test, squared=False)\n",
    "r2_acc = r2_score(y_pred, y_test)\n",
    "\n",
    "accuracy = pd.DataFrame({\n",
    "    \"Metric\" : [\"MAE\", \"MSE\", \"RMSE\", \"R2\"],\n",
    "    \"Accuracy score\" : [mae_acc, mse_acc, rmse_acc, r2_acc]\n",
    "})\n",
    "accuracy.sort_values(by = \"Accuracy score\")"
   ]
  },
  {
   "cell_type": "markdown",
   "metadata": {},
   "source": [
    "### Ridge"
   ]
  },
  {
   "cell_type": "code",
   "execution_count": 112,
   "metadata": {},
   "outputs": [
    {
     "data": {
      "text/html": [
       "<div>\n",
       "<style scoped>\n",
       "    .dataframe tbody tr th:only-of-type {\n",
       "        vertical-align: middle;\n",
       "    }\n",
       "\n",
       "    .dataframe tbody tr th {\n",
       "        vertical-align: top;\n",
       "    }\n",
       "\n",
       "    .dataframe thead th {\n",
       "        text-align: right;\n",
       "    }\n",
       "</style>\n",
       "<table border=\"1\" class=\"dataframe\">\n",
       "  <thead>\n",
       "    <tr style=\"text-align: right;\">\n",
       "      <th></th>\n",
       "      <th>Metric</th>\n",
       "      <th>Accuracy score</th>\n",
       "    </tr>\n",
       "  </thead>\n",
       "  <tbody>\n",
       "    <tr>\n",
       "      <th>3</th>\n",
       "      <td>R2</td>\n",
       "      <td>0.938017</td>\n",
       "    </tr>\n",
       "    <tr>\n",
       "      <th>0</th>\n",
       "      <td>MAE</td>\n",
       "      <td>74.952262</td>\n",
       "    </tr>\n",
       "    <tr>\n",
       "      <th>2</th>\n",
       "      <td>RMSE</td>\n",
       "      <td>131.949796</td>\n",
       "    </tr>\n",
       "    <tr>\n",
       "      <th>1</th>\n",
       "      <td>MSE</td>\n",
       "      <td>17410.748656</td>\n",
       "    </tr>\n",
       "  </tbody>\n",
       "</table>\n",
       "</div>"
      ],
      "text/plain": [
       "  Metric  Accuracy score\n",
       "3     R2        0.938017\n",
       "0    MAE       74.952262\n",
       "2   RMSE      131.949796\n",
       "1    MSE    17410.748656"
      ]
     },
     "execution_count": 112,
     "metadata": {},
     "output_type": "execute_result"
    }
   ],
   "source": [
    "RidgeReg = Ridge().fit(X_train, y_train)\n",
    "RidgeReg.score(X_train, y_train)\n",
    "# LinReg.coef_\n",
    "# LinReg.intercept_\n",
    "y_pred = RidgeReg.predict(X_test)\n",
    "\n",
    "mae_acc = mean_absolute_error(y_pred, y_test) \n",
    "mse_acc = mean_squared_error(y_pred, y_test) \n",
    "rmse_acc = mean_squared_error(y_pred, y_test, squared=False)\n",
    "r2_acc = r2_score(y_pred, y_test)\n",
    "\n",
    "accuracy = pd.DataFrame({\n",
    "    \"Metric\" : [\"MAE\", \"MSE\", \"RMSE\", \"R2\"],\n",
    "    \"Accuracy score\" : [mae_acc, mse_acc, rmse_acc, r2_acc]\n",
    "})\n",
    "accuracy.sort_values(by = \"Accuracy score\")"
   ]
  },
  {
   "cell_type": "markdown",
   "metadata": {},
   "source": [
    "### RidgeCV"
   ]
  },
  {
   "cell_type": "code",
   "execution_count": 113,
   "metadata": {},
   "outputs": [
    {
     "data": {
      "text/html": [
       "<div>\n",
       "<style scoped>\n",
       "    .dataframe tbody tr th:only-of-type {\n",
       "        vertical-align: middle;\n",
       "    }\n",
       "\n",
       "    .dataframe tbody tr th {\n",
       "        vertical-align: top;\n",
       "    }\n",
       "\n",
       "    .dataframe thead th {\n",
       "        text-align: right;\n",
       "    }\n",
       "</style>\n",
       "<table border=\"1\" class=\"dataframe\">\n",
       "  <thead>\n",
       "    <tr style=\"text-align: right;\">\n",
       "      <th></th>\n",
       "      <th>Metric</th>\n",
       "      <th>Accuracy score</th>\n",
       "    </tr>\n",
       "  </thead>\n",
       "  <tbody>\n",
       "    <tr>\n",
       "      <th>3</th>\n",
       "      <td>R2</td>\n",
       "      <td>0.938013</td>\n",
       "    </tr>\n",
       "    <tr>\n",
       "      <th>0</th>\n",
       "      <td>MAE</td>\n",
       "      <td>74.933898</td>\n",
       "    </tr>\n",
       "    <tr>\n",
       "      <th>2</th>\n",
       "      <td>RMSE</td>\n",
       "      <td>131.950452</td>\n",
       "    </tr>\n",
       "    <tr>\n",
       "      <th>1</th>\n",
       "      <td>MSE</td>\n",
       "      <td>17410.921713</td>\n",
       "    </tr>\n",
       "  </tbody>\n",
       "</table>\n",
       "</div>"
      ],
      "text/plain": [
       "  Metric  Accuracy score\n",
       "3     R2        0.938013\n",
       "0    MAE       74.933898\n",
       "2   RMSE      131.950452\n",
       "1    MSE    17410.921713"
      ]
     },
     "execution_count": 113,
     "metadata": {},
     "output_type": "execute_result"
    }
   ],
   "source": [
    "RidgeCVReg = RidgeCV().fit(X_train, y_train)\n",
    "RidgeCVReg.score(X_train, y_train)\n",
    "# LinReg.coef_\n",
    "# LinReg.intercept_\n",
    "y_pred = RidgeCVReg.predict(X_test)\n",
    "\n",
    "mae_acc = mean_absolute_error(y_pred, y_test) \n",
    "mse_acc = mean_squared_error(y_pred, y_test) \n",
    "rmse_acc = mean_squared_error(y_pred, y_test, squared=False)\n",
    "r2_acc = r2_score(y_pred, y_test)\n",
    "\n",
    "accuracy = pd.DataFrame({\n",
    "    \"Metric\" : [\"MAE\", \"MSE\", \"RMSE\", \"R2\"],\n",
    "    \"Accuracy score\" : [mae_acc, mse_acc, rmse_acc, r2_acc]\n",
    "})\n",
    "accuracy.sort_values(by = \"Accuracy score\")"
   ]
  },
  {
   "cell_type": "markdown",
   "metadata": {},
   "source": [
    "### Fit All data and export"
   ]
  },
  {
   "cell_type": "code",
   "execution_count": 114,
   "metadata": {},
   "outputs": [],
   "source": [
    "df_train = df_open.copy()\n",
    "y = df_train[\"plooking_pos_x\"]\n",
    "X = df_train.drop([\"plooking_pos_x\", \"plooking_pos_y\"], axis = 1)\n",
    "\n",
    "RidgeCVReg_x = RidgeCV().fit(X, y)"
   ]
  },
  {
   "cell_type": "code",
   "execution_count": 115,
   "metadata": {},
   "outputs": [],
   "source": [
    "df_train = df_open.copy()\n",
    "y = df_train[\"plooking_pos_y\"]\n",
    "X = df_train.drop([\"plooking_pos_x\", \"plooking_pos_y\"], axis = 1)\n",
    "\n",
    "RidgeCVReg_y = LinearRegression().fit(X, y)"
   ]
  },
  {
   "cell_type": "code",
   "execution_count": 116,
   "metadata": {},
   "outputs": [
    {
     "data": {
      "text/plain": [
       "['Models/RidgeCVReg_y.joblib']"
      ]
     },
     "execution_count": 116,
     "metadata": {},
     "output_type": "execute_result"
    }
   ],
   "source": [
    "from joblib import dump, load\n",
    "dump(RidgeCVReg_x, 'Models/RidgeCVReg_x.joblib')\n",
    "dump(RidgeCVReg_y, 'Models/RidgeCVReg_y.joblib')"
   ]
  }
 ],
 "metadata": {
  "kernelspec": {
   "display_name": "Python 3.8.3 64-bit",
   "language": "python",
   "name": "python3"
  },
  "language_info": {
   "codemirror_mode": {
    "name": "ipython",
    "version": 3
   },
   "file_extension": ".py",
   "mimetype": "text/x-python",
   "name": "python",
   "nbconvert_exporter": "python",
   "pygments_lexer": "ipython3",
   "version": "3.8.3"
  },
  "vscode": {
   "interpreter": {
    "hash": "9650cb4e16cdd4a8e8e2d128bf38d875813998db22a3c986335f89e0cb4d7bb2"
   }
  }
 },
 "nbformat": 4,
 "nbformat_minor": 4
}
