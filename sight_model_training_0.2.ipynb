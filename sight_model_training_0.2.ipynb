{
 "cells": [
  {
   "cell_type": "code",
   "execution_count": 36,
   "metadata": {},
   "outputs": [],
   "source": [
    "import csv\n",
    "import numpy as np # linear algebra\n",
    "import pandas as pd # data processing, CSV file I/O (e.g. pd.read_csv)\n",
    "import matplotlib.pyplot as plt\n",
    "import seaborn as sns\n",
    "import pandas as pd\n",
    "import glob\n",
    "import os\n",
    "\n",
    "# Get All tracking data\n",
    "path = r'C:\\Users\\gabri\\OneDrive\\Documentos\\GitHub\\opencv_learning\\tracking_data' # use your path\n",
    "all_files = glob.glob(os.path.join(path , \"*.csv\"))\n",
    "\n",
    "li = []\n",
    "\n",
    "for filename in all_files:\n",
    "    df = pd.read_csv(filename, index_col=None, header=0)\n",
    "    li.append(df)\n",
    "\n",
    "df = pd.concat(li, axis=0, ignore_index=True)\n",
    "# df = pd.read_csv(\"tracking.csv\")\n",
    "df = df.filter(df.columns[1:])\n",
    "\n"
   ]
  },
  {
   "cell_type": "code",
   "execution_count": 37,
   "metadata": {},
   "outputs": [
    {
     "data": {
      "text/html": [
       "<div>\n",
       "<style scoped>\n",
       "    .dataframe tbody tr th:only-of-type {\n",
       "        vertical-align: middle;\n",
       "    }\n",
       "\n",
       "    .dataframe tbody tr th {\n",
       "        vertical-align: top;\n",
       "    }\n",
       "\n",
       "    .dataframe thead th {\n",
       "        text-align: right;\n",
       "    }\n",
       "</style>\n",
       "<table border=\"1\" class=\"dataframe\">\n",
       "  <thead>\n",
       "    <tr style=\"text-align: right;\">\n",
       "      <th></th>\n",
       "      <th>468</th>\n",
       "      <th>469</th>\n",
       "      <th>470</th>\n",
       "      <th>471</th>\n",
       "      <th>472</th>\n",
       "      <th>473</th>\n",
       "      <th>474</th>\n",
       "      <th>475</th>\n",
       "      <th>476</th>\n",
       "      <th>477</th>\n",
       "      <th>head_rotation_hor</th>\n",
       "      <th>head_rotation_ver</th>\n",
       "      <th>head_pos</th>\n",
       "      <th>looking_pos</th>\n",
       "    </tr>\n",
       "  </thead>\n",
       "  <tbody>\n",
       "    <tr>\n",
       "      <th>0</th>\n",
       "      <td>[-0.006136195749023311, 0.35711871770220627]</td>\n",
       "      <td>[-0.007506315039786032, 0.35925193209723405]</td>\n",
       "      <td>[-0.0060854975588148326, 0.42233301601906215]</td>\n",
       "      <td>[-0.005184139075830299, 0.3547345105876819]</td>\n",
       "      <td>[-0.006195155668903817, 0.3088629173409202]</td>\n",
       "      <td>[0.004807821399056634, 0.3671110586802099]</td>\n",
       "      <td>[0.00410614885280087, 0.37038041016276363]</td>\n",
       "      <td>[0.004845613900041134, 0.4374511759793421]</td>\n",
       "      <td>[0.005791675082535413, 0.3641490270456543]</td>\n",
       "      <td>[0.004767407323258321, 0.3162275130574361]</td>\n",
       "      <td>[-0.003107786178588867]</td>\n",
       "      <td>[0.00041347742080688477]</td>\n",
       "      <td>[0.5392665863037109, 0.38461682200431824]</td>\n",
       "      <td>[157, 894]</td>\n",
       "    </tr>\n",
       "    <tr>\n",
       "      <th>1</th>\n",
       "      <td>[-0.04863515177337849, 0.3722821467817852]</td>\n",
       "      <td>[-0.061137847651604064, 0.3782477362233018]</td>\n",
       "      <td>[-0.04713846887275248, 0.4401616388682603]</td>\n",
       "      <td>[-0.04038877184857853, 0.3666588419980949]</td>\n",
       "      <td>[-0.05023631194795151, 0.32261888159279395]</td>\n",
       "      <td>[0.03236035814436568, 0.4217681684546316]</td>\n",
       "      <td>[0.028272026283295757, 0.42936165736074994]</td>\n",
       "      <td>[0.03289150295777751, 0.5049503005117465]</td>\n",
       "      <td>[0.037854712666661385, 0.41476843886150966]</td>\n",
       "      <td>[0.03188126467415608, 0.3621595127470994]</td>\n",
       "      <td>[-0.0030971169471740723]</td>\n",
       "      <td>[8.726119995117188e-05]</td>\n",
       "      <td>[0.5544769763946533, 0.4542940557003021]</td>\n",
       "      <td>[157, 894]</td>\n",
       "    </tr>\n",
       "  </tbody>\n",
       "</table>\n",
       "</div>"
      ],
      "text/plain": [
       "                                            468  \\\n",
       "0  [-0.006136195749023311, 0.35711871770220627]   \n",
       "1    [-0.04863515177337849, 0.3722821467817852]   \n",
       "\n",
       "                                            469  \\\n",
       "0  [-0.007506315039786032, 0.35925193209723405]   \n",
       "1   [-0.061137847651604064, 0.3782477362233018]   \n",
       "\n",
       "                                             470  \\\n",
       "0  [-0.0060854975588148326, 0.42233301601906215]   \n",
       "1     [-0.04713846887275248, 0.4401616388682603]   \n",
       "\n",
       "                                           471  \\\n",
       "0  [-0.005184139075830299, 0.3547345105876819]   \n",
       "1   [-0.04038877184857853, 0.3666588419980949]   \n",
       "\n",
       "                                           472  \\\n",
       "0  [-0.006195155668903817, 0.3088629173409202]   \n",
       "1  [-0.05023631194795151, 0.32261888159279395]   \n",
       "\n",
       "                                          473  \\\n",
       "0  [0.004807821399056634, 0.3671110586802099]   \n",
       "1   [0.03236035814436568, 0.4217681684546316]   \n",
       "\n",
       "                                           474  \\\n",
       "0   [0.00410614885280087, 0.37038041016276363]   \n",
       "1  [0.028272026283295757, 0.42936165736074994]   \n",
       "\n",
       "                                          475  \\\n",
       "0  [0.004845613900041134, 0.4374511759793421]   \n",
       "1   [0.03289150295777751, 0.5049503005117465]   \n",
       "\n",
       "                                           476  \\\n",
       "0   [0.005791675082535413, 0.3641490270456543]   \n",
       "1  [0.037854712666661385, 0.41476843886150966]   \n",
       "\n",
       "                                          477         head_rotation_hor  \\\n",
       "0  [0.004767407323258321, 0.3162275130574361]   [-0.003107786178588867]   \n",
       "1   [0.03188126467415608, 0.3621595127470994]  [-0.0030971169471740723]   \n",
       "\n",
       "          head_rotation_ver                                   head_pos  \\\n",
       "0  [0.00041347742080688477]  [0.5392665863037109, 0.38461682200431824]   \n",
       "1   [8.726119995117188e-05]   [0.5544769763946533, 0.4542940557003021]   \n",
       "\n",
       "  looking_pos  \n",
       "0  [157, 894]  \n",
       "1  [157, 894]  "
      ]
     },
     "execution_count": 37,
     "metadata": {},
     "output_type": "execute_result"
    }
   ],
   "source": [
    "df.head(2)"
   ]
  },
  {
   "cell_type": "code",
   "execution_count": 38,
   "metadata": {},
   "outputs": [
    {
     "name": "stdout",
     "output_type": "stream",
     "text": [
      "p468\n",
      "p469\n",
      "p470\n",
      "p471\n",
      "p472\n",
      "p473\n",
      "p474\n",
      "p475\n",
      "p476\n",
      "p477\n",
      "phead_rotation_hor\n",
      "phead_rotation_ver\n",
      "phead_pos\n",
      "plooking_pos\n"
     ]
    },
    {
     "data": {
      "text/html": [
       "<div>\n",
       "<style scoped>\n",
       "    .dataframe tbody tr th:only-of-type {\n",
       "        vertical-align: middle;\n",
       "    }\n",
       "\n",
       "    .dataframe tbody tr th {\n",
       "        vertical-align: top;\n",
       "    }\n",
       "\n",
       "    .dataframe thead th {\n",
       "        text-align: right;\n",
       "    }\n",
       "</style>\n",
       "<table border=\"1\" class=\"dataframe\">\n",
       "  <thead>\n",
       "    <tr style=\"text-align: right;\">\n",
       "      <th></th>\n",
       "      <th>p468</th>\n",
       "      <th>p469</th>\n",
       "      <th>p470</th>\n",
       "      <th>p471</th>\n",
       "      <th>p472</th>\n",
       "      <th>p473</th>\n",
       "      <th>p474</th>\n",
       "      <th>p475</th>\n",
       "      <th>p476</th>\n",
       "      <th>p477</th>\n",
       "      <th>phead_rotation_hor</th>\n",
       "      <th>phead_rotation_ver</th>\n",
       "      <th>phead_pos</th>\n",
       "      <th>plooking_pos</th>\n",
       "    </tr>\n",
       "  </thead>\n",
       "  <tbody>\n",
       "    <tr>\n",
       "      <th>0</th>\n",
       "      <td>[-0.006136195749023311, 0.35711871770220627]</td>\n",
       "      <td>[-0.007506315039786032, 0.35925193209723405]</td>\n",
       "      <td>[-0.0060854975588148326, 0.42233301601906215]</td>\n",
       "      <td>[-0.005184139075830299, 0.3547345105876819]</td>\n",
       "      <td>[-0.006195155668903817, 0.3088629173409202]</td>\n",
       "      <td>[0.004807821399056634, 0.3671110586802099]</td>\n",
       "      <td>[0.00410614885280087, 0.37038041016276363]</td>\n",
       "      <td>[0.004845613900041134, 0.4374511759793421]</td>\n",
       "      <td>[0.005791675082535413, 0.3641490270456543]</td>\n",
       "      <td>[0.004767407323258321, 0.3162275130574361]</td>\n",
       "      <td>[-0.003107786178588867]</td>\n",
       "      <td>[0.00041347742080688477]</td>\n",
       "      <td>[0.5392665863037109, 0.38461682200431824]</td>\n",
       "      <td>[157.0, 894.0]</td>\n",
       "    </tr>\n",
       "    <tr>\n",
       "      <th>1</th>\n",
       "      <td>[-0.04863515177337849, 0.3722821467817852]</td>\n",
       "      <td>[-0.061137847651604064, 0.3782477362233018]</td>\n",
       "      <td>[-0.04713846887275248, 0.4401616388682603]</td>\n",
       "      <td>[-0.04038877184857853, 0.3666588419980949]</td>\n",
       "      <td>[-0.05023631194795151, 0.32261888159279395]</td>\n",
       "      <td>[0.03236035814436568, 0.4217681684546316]</td>\n",
       "      <td>[0.028272026283295757, 0.42936165736074994]</td>\n",
       "      <td>[0.03289150295777751, 0.5049503005117465]</td>\n",
       "      <td>[0.037854712666661385, 0.41476843886150966]</td>\n",
       "      <td>[0.03188126467415608, 0.3621595127470994]</td>\n",
       "      <td>[-0.0030971169471740723]</td>\n",
       "      <td>[8.726119995117188e-05]</td>\n",
       "      <td>[0.5544769763946533, 0.4542940557003021]</td>\n",
       "      <td>[157.0, 894.0]</td>\n",
       "    </tr>\n",
       "  </tbody>\n",
       "</table>\n",
       "</div>"
      ],
      "text/plain": [
       "                                           p468  \\\n",
       "0  [-0.006136195749023311, 0.35711871770220627]   \n",
       "1    [-0.04863515177337849, 0.3722821467817852]   \n",
       "\n",
       "                                           p469  \\\n",
       "0  [-0.007506315039786032, 0.35925193209723405]   \n",
       "1   [-0.061137847651604064, 0.3782477362233018]   \n",
       "\n",
       "                                            p470  \\\n",
       "0  [-0.0060854975588148326, 0.42233301601906215]   \n",
       "1     [-0.04713846887275248, 0.4401616388682603]   \n",
       "\n",
       "                                          p471  \\\n",
       "0  [-0.005184139075830299, 0.3547345105876819]   \n",
       "1   [-0.04038877184857853, 0.3666588419980949]   \n",
       "\n",
       "                                          p472  \\\n",
       "0  [-0.006195155668903817, 0.3088629173409202]   \n",
       "1  [-0.05023631194795151, 0.32261888159279395]   \n",
       "\n",
       "                                         p473  \\\n",
       "0  [0.004807821399056634, 0.3671110586802099]   \n",
       "1   [0.03236035814436568, 0.4217681684546316]   \n",
       "\n",
       "                                          p474  \\\n",
       "0   [0.00410614885280087, 0.37038041016276363]   \n",
       "1  [0.028272026283295757, 0.42936165736074994]   \n",
       "\n",
       "                                         p475  \\\n",
       "0  [0.004845613900041134, 0.4374511759793421]   \n",
       "1   [0.03289150295777751, 0.5049503005117465]   \n",
       "\n",
       "                                          p476  \\\n",
       "0   [0.005791675082535413, 0.3641490270456543]   \n",
       "1  [0.037854712666661385, 0.41476843886150966]   \n",
       "\n",
       "                                         p477        phead_rotation_hor  \\\n",
       "0  [0.004767407323258321, 0.3162275130574361]   [-0.003107786178588867]   \n",
       "1   [0.03188126467415608, 0.3621595127470994]  [-0.0030971169471740723]   \n",
       "\n",
       "         phead_rotation_ver                                  phead_pos  \\\n",
       "0  [0.00041347742080688477]  [0.5392665863037109, 0.38461682200431824]   \n",
       "1   [8.726119995117188e-05]   [0.5544769763946533, 0.4542940557003021]   \n",
       "\n",
       "     plooking_pos  \n",
       "0  [157.0, 894.0]  \n",
       "1  [157.0, 894.0]  "
      ]
     },
     "execution_count": 38,
     "metadata": {},
     "output_type": "execute_result"
    }
   ],
   "source": [
    "\n",
    "\n",
    "for col in df.columns:\n",
    "    df.rename(columns={col:'p' + col},inplace=True)\n",
    "########################################################################\n",
    "def str_to_list(cell):\n",
    "    cell = ''.join(c for c in cell if c not in \"'[]\")\n",
    "    cell = (cell.split(', '))      \n",
    "    return list(map(float, cell))\n",
    "\n",
    "for c in df.columns:    \n",
    "    df[c] = df[c].apply(str_to_list)\n",
    "    print(c)\n",
    "df.head(2)"
   ]
  },
  {
   "cell_type": "code",
   "execution_count": 39,
   "metadata": {},
   "outputs": [
    {
     "data": {
      "text/html": [
       "<div>\n",
       "<style scoped>\n",
       "    .dataframe tbody tr th:only-of-type {\n",
       "        vertical-align: middle;\n",
       "    }\n",
       "\n",
       "    .dataframe tbody tr th {\n",
       "        vertical-align: top;\n",
       "    }\n",
       "\n",
       "    .dataframe thead th {\n",
       "        text-align: right;\n",
       "    }\n",
       "</style>\n",
       "<table border=\"1\" class=\"dataframe\">\n",
       "  <thead>\n",
       "    <tr style=\"text-align: right;\">\n",
       "      <th></th>\n",
       "      <th>p468_x</th>\n",
       "      <th>p468_y</th>\n",
       "      <th>p469_x</th>\n",
       "      <th>p469_y</th>\n",
       "      <th>p470_x</th>\n",
       "      <th>p470_y</th>\n",
       "      <th>p471_x</th>\n",
       "      <th>p471_y</th>\n",
       "      <th>p472_x</th>\n",
       "      <th>p472_y</th>\n",
       "      <th>...</th>\n",
       "      <th>p476_x</th>\n",
       "      <th>p476_y</th>\n",
       "      <th>p477_x</th>\n",
       "      <th>p477_y</th>\n",
       "      <th>phead_rotation_hor_deg</th>\n",
       "      <th>phead_rotation_ver_deg</th>\n",
       "      <th>phead_pos_x</th>\n",
       "      <th>phead_pos_y</th>\n",
       "      <th>plooking_pos_x</th>\n",
       "      <th>plooking_pos_y</th>\n",
       "    </tr>\n",
       "  </thead>\n",
       "  <tbody>\n",
       "    <tr>\n",
       "      <th>0</th>\n",
       "      <td>-0.006136</td>\n",
       "      <td>0.357119</td>\n",
       "      <td>-0.007506</td>\n",
       "      <td>0.359252</td>\n",
       "      <td>-0.006085</td>\n",
       "      <td>0.422333</td>\n",
       "      <td>-0.005184</td>\n",
       "      <td>0.354735</td>\n",
       "      <td>-0.006195</td>\n",
       "      <td>0.308863</td>\n",
       "      <td>...</td>\n",
       "      <td>0.005792</td>\n",
       "      <td>0.364149</td>\n",
       "      <td>0.004767</td>\n",
       "      <td>0.316228</td>\n",
       "      <td>-0.003108</td>\n",
       "      <td>0.000413</td>\n",
       "      <td>0.539267</td>\n",
       "      <td>0.384617</td>\n",
       "      <td>157.0</td>\n",
       "      <td>894.0</td>\n",
       "    </tr>\n",
       "    <tr>\n",
       "      <th>1</th>\n",
       "      <td>-0.048635</td>\n",
       "      <td>0.372282</td>\n",
       "      <td>-0.061138</td>\n",
       "      <td>0.378248</td>\n",
       "      <td>-0.047138</td>\n",
       "      <td>0.440162</td>\n",
       "      <td>-0.040389</td>\n",
       "      <td>0.366659</td>\n",
       "      <td>-0.050236</td>\n",
       "      <td>0.322619</td>\n",
       "      <td>...</td>\n",
       "      <td>0.037855</td>\n",
       "      <td>0.414768</td>\n",
       "      <td>0.031881</td>\n",
       "      <td>0.362160</td>\n",
       "      <td>-0.003097</td>\n",
       "      <td>0.000087</td>\n",
       "      <td>0.554477</td>\n",
       "      <td>0.454294</td>\n",
       "      <td>157.0</td>\n",
       "      <td>894.0</td>\n",
       "    </tr>\n",
       "  </tbody>\n",
       "</table>\n",
       "<p>2 rows × 26 columns</p>\n",
       "</div>"
      ],
      "text/plain": [
       "     p468_x    p468_y    p469_x    p469_y    p470_x    p470_y    p471_x  \\\n",
       "0 -0.006136  0.357119 -0.007506  0.359252 -0.006085  0.422333 -0.005184   \n",
       "1 -0.048635  0.372282 -0.061138  0.378248 -0.047138  0.440162 -0.040389   \n",
       "\n",
       "     p471_y    p472_x    p472_y  ...    p476_x    p476_y    p477_x    p477_y  \\\n",
       "0  0.354735 -0.006195  0.308863  ...  0.005792  0.364149  0.004767  0.316228   \n",
       "1  0.366659 -0.050236  0.322619  ...  0.037855  0.414768  0.031881  0.362160   \n",
       "\n",
       "   phead_rotation_hor_deg  phead_rotation_ver_deg  phead_pos_x  phead_pos_y  \\\n",
       "0               -0.003108                0.000413     0.539267     0.384617   \n",
       "1               -0.003097                0.000087     0.554477     0.454294   \n",
       "\n",
       "   plooking_pos_x  plooking_pos_y  \n",
       "0           157.0           894.0  \n",
       "1           157.0           894.0  \n",
       "\n",
       "[2 rows x 26 columns]"
      ]
     },
     "execution_count": 39,
     "metadata": {},
     "output_type": "execute_result"
    }
   ],
   "source": [
    "df_open = df.copy()\n",
    "\n",
    "f =[]\n",
    "for c in df.columns:    \n",
    "    if c not in ['phead_rotation_hor','phead_rotation_ver']:\n",
    "        new_columns = [(c +\"_x\"),(c +\"_y\")]      \n",
    "        df_open[new_columns] = pd.DataFrame(df_open[c].tolist(), index= df.index)\n",
    "    else:\n",
    "        df_open[c + \"_deg\"] = pd.DataFrame(df_open[c].tolist(), index= df.index)\n",
    "\n",
    "df_open = df_open.drop(df.columns, axis=1)\n",
    "\n",
    "df_open.head(2)   "
   ]
  },
  {
   "cell_type": "code",
   "execution_count": 40,
   "metadata": {},
   "outputs": [],
   "source": [
    "from sklearn.preprocessing import OneHotEncoder, LabelEncoder\n",
    "from sklearn.model_selection import train_test_split\n",
    "# from sklearn.tree import DecisionTreeClassifier\n",
    "# from sklearn.ensemble import RandomForestClassifier\n",
    "# from sklearn.naive_bayes import GaussianNB\n",
    "# from sklearn.neighbors import KNeighborsClassifier\n",
    "# from sklearn.svm import SVC\n",
    "from sklearn.metrics import confusion_matrix, accuracy_score, precision_recall_curve, mean_squared_error, mean_absolute_error, r2_score\n",
    "from sklearn.linear_model import LinearRegression, Ridge, RidgeCV, SGDRegressor"
   ]
  },
  {
   "cell_type": "markdown",
   "metadata": {},
   "source": [
    "### Prep Data"
   ]
  },
  {
   "cell_type": "code",
   "execution_count": 41,
   "metadata": {},
   "outputs": [
    {
     "data": {
      "text/plain": [
       "((300, 24), (200, 24), (300,), (200,))"
      ]
     },
     "execution_count": 41,
     "metadata": {},
     "output_type": "execute_result"
    }
   ],
   "source": [
    "df_train = df_open.copy()\n",
    "y = df_train[\"plooking_pos_x\"]\n",
    "X = df_train.drop([\"plooking_pos_x\", \"plooking_pos_y\"], axis = 1)\n",
    "X_train, X_test, y_train, y_test = train_test_split(X, y, test_size = 0.4, random_state = 1)\n",
    "X_train.shape, X_test.shape, y_train.shape, y_test.shape"
   ]
  },
  {
   "cell_type": "markdown",
   "metadata": {},
   "source": [
    "## Decision tree classifier"
   ]
  },
  {
   "cell_type": "code",
   "execution_count": 54,
   "metadata": {},
   "outputs": [
    {
     "data": {
      "text/plain": [
       "304    157.0\n",
       "340    157.0\n",
       "47     157.0\n",
       "67     157.0\n",
       "479    157.0\n",
       "       ...  \n",
       "364    157.0\n",
       "186    157.0\n",
       "267    157.0\n",
       "230    157.0\n",
       "407    157.0\n",
       "Name: plooking_pos_x, Length: 200, dtype: float64"
      ]
     },
     "execution_count": 54,
     "metadata": {},
     "output_type": "execute_result"
    }
   ],
   "source": [
    "y_test"
   ]
  },
  {
   "cell_type": "code",
   "execution_count": 42,
   "metadata": {},
   "outputs": [],
   "source": [
    "# decision_tree_model = DecisionTreeClassifier(random_state = 2)\n",
    "# decision_tree_model.fit(X_train, y_train)\n",
    "# y_pred = decision_tree_model.predict(X_test)\n",
    "# decision_tree_model_acc = accuracy_score(y_pred, y_test) * 100\n",
    "# print(\"Accuracy:\", decision_tree_model_acc)"
   ]
  },
  {
   "cell_type": "markdown",
   "metadata": {},
   "source": [
    "### Random forest classifier"
   ]
  },
  {
   "cell_type": "code",
   "execution_count": 43,
   "metadata": {},
   "outputs": [],
   "source": [
    "# random_forest_model = RandomForestClassifier(criterion='gini',\n",
    "#                                             n_estimators=1750,\n",
    "#                                             max_depth=7,\n",
    "#                                             min_samples_split=6,\n",
    "#                                             min_samples_leaf=6,\n",
    "#                                             max_features='auto',\n",
    "#                                             verbose=1,\n",
    "#                                             random_state = 3)\n",
    "# random_forest_model.fit(X_train, y_train)\n",
    "# y_pred = random_forest_model.predict(X_test)\n",
    "# random_forest_model_acc = accuracy_score(y_pred, y_test) * 100\n",
    "# print(\"Accuracy:\", random_forest_model_acc)"
   ]
  },
  {
   "cell_type": "markdown",
   "metadata": {},
   "source": [
    "### Naive Bayes classifier"
   ]
  },
  {
   "cell_type": "code",
   "execution_count": 44,
   "metadata": {},
   "outputs": [],
   "source": [
    "# NB_model = GaussianNB()\n",
    "# NB_model.fit(X_train, y_train)\n",
    "# y_pred = NB_model.predict(X_test)\n",
    "# NB_model_acc = accuracy_score(y_pred, y_test) * 100\n",
    "# print(\"Accuracy:\", NB_model_acc)"
   ]
  },
  {
   "cell_type": "markdown",
   "metadata": {},
   "source": [
    "### K-nearest neighbours classifier"
   ]
  },
  {
   "cell_type": "code",
   "execution_count": 45,
   "metadata": {},
   "outputs": [],
   "source": [
    "# knn_model = KNeighborsClassifier(n_neighbors = 8)\n",
    "# knn_model.fit(X_train, y_train)\n",
    "# y_pred = knn_model.predict(X_test)\n",
    "# knn_model_acc = accuracy_score(y_pred, y_test) * 100\n",
    "# print(\"Accuracy:\", knn_model_acc)"
   ]
  },
  {
   "cell_type": "markdown",
   "metadata": {},
   "source": [
    "### Support vector machines"
   ]
  },
  {
   "cell_type": "code",
   "execution_count": 46,
   "metadata": {},
   "outputs": [],
   "source": [
    "# svm_model = SVC()\n",
    "# svm_model.fit(X_train, y_train)\n",
    "# y_pred = svm_model.predict(X_test)\n",
    "# svm_model_acc = accuracy_score(y_pred, y_test) * 100\n",
    "# print(\"Accuracy:\", svm_model_acc)"
   ]
  },
  {
   "cell_type": "code",
   "execution_count": 47,
   "metadata": {},
   "outputs": [],
   "source": [
    "# all_models = pd.DataFrame({\n",
    "#     \"Model\" : [\"Decision tree classifier\", \"Random forest classifier\", \"Naive Bayes classifier\", \"KNN\", \"SVM\"],\n",
    "#     \"Accuracy score\" : [decision_tree_model_acc, random_forest_model_acc, NB_model_acc, knn_model_acc, svm_model_acc]\n",
    "# })\n",
    "# all_models.sort_values(by = \"Accuracy score\")"
   ]
  },
  {
   "cell_type": "markdown",
   "metadata": {},
   "source": [
    "### LinearRegression"
   ]
  },
  {
   "cell_type": "code",
   "execution_count": 48,
   "metadata": {},
   "outputs": [
    {
     "data": {
      "text/html": [
       "<div>\n",
       "<style scoped>\n",
       "    .dataframe tbody tr th:only-of-type {\n",
       "        vertical-align: middle;\n",
       "    }\n",
       "\n",
       "    .dataframe tbody tr th {\n",
       "        vertical-align: top;\n",
       "    }\n",
       "\n",
       "    .dataframe thead th {\n",
       "        text-align: right;\n",
       "    }\n",
       "</style>\n",
       "<table border=\"1\" class=\"dataframe\">\n",
       "  <thead>\n",
       "    <tr style=\"text-align: right;\">\n",
       "      <th></th>\n",
       "      <th>Metric</th>\n",
       "      <th>Accuracy score</th>\n",
       "    </tr>\n",
       "  </thead>\n",
       "  <tbody>\n",
       "    <tr>\n",
       "      <th>0</th>\n",
       "      <td>MAE</td>\n",
       "      <td>0.0</td>\n",
       "    </tr>\n",
       "    <tr>\n",
       "      <th>1</th>\n",
       "      <td>MSE</td>\n",
       "      <td>0.0</td>\n",
       "    </tr>\n",
       "    <tr>\n",
       "      <th>2</th>\n",
       "      <td>RMSE</td>\n",
       "      <td>0.0</td>\n",
       "    </tr>\n",
       "    <tr>\n",
       "      <th>3</th>\n",
       "      <td>R2</td>\n",
       "      <td>1.0</td>\n",
       "    </tr>\n",
       "  </tbody>\n",
       "</table>\n",
       "</div>"
      ],
      "text/plain": [
       "  Metric  Accuracy score\n",
       "0    MAE             0.0\n",
       "1    MSE             0.0\n",
       "2   RMSE             0.0\n",
       "3     R2             1.0"
      ]
     },
     "execution_count": 48,
     "metadata": {},
     "output_type": "execute_result"
    }
   ],
   "source": [
    "LinReg = LinearRegression().fit(X_train, y_train)\n",
    "LinReg.score(X_train, y_train)\n",
    "# LinReg.coef_\n",
    "# LinReg.intercept_\n",
    "y_pred = LinReg.predict(X_test)\n",
    "\n",
    "mae_acc = mean_absolute_error(y_pred, y_test) \n",
    "mse_acc = mean_squared_error(y_pred, y_test) \n",
    "rmse_acc = mean_squared_error(y_pred, y_test, squared=False)\n",
    "r2_acc = r2_score(y_pred, y_test)\n",
    "\n",
    "accuracy = pd.DataFrame({\n",
    "    \"Metric\" : [\"MAE\", \"MSE\", \"RMSE\", \"R2\"],\n",
    "    \"Accuracy score\" : [mae_acc, mse_acc, rmse_acc, r2_acc]\n",
    "})\n",
    "accuracy.sort_values(by = \"Accuracy score\")"
   ]
  },
  {
   "cell_type": "markdown",
   "metadata": {},
   "source": [
    "### Ridge"
   ]
  },
  {
   "cell_type": "code",
   "execution_count": 49,
   "metadata": {},
   "outputs": [
    {
     "data": {
      "text/html": [
       "<div>\n",
       "<style scoped>\n",
       "    .dataframe tbody tr th:only-of-type {\n",
       "        vertical-align: middle;\n",
       "    }\n",
       "\n",
       "    .dataframe tbody tr th {\n",
       "        vertical-align: top;\n",
       "    }\n",
       "\n",
       "    .dataframe thead th {\n",
       "        text-align: right;\n",
       "    }\n",
       "</style>\n",
       "<table border=\"1\" class=\"dataframe\">\n",
       "  <thead>\n",
       "    <tr style=\"text-align: right;\">\n",
       "      <th></th>\n",
       "      <th>Metric</th>\n",
       "      <th>Accuracy score</th>\n",
       "    </tr>\n",
       "  </thead>\n",
       "  <tbody>\n",
       "    <tr>\n",
       "      <th>0</th>\n",
       "      <td>MAE</td>\n",
       "      <td>0.0</td>\n",
       "    </tr>\n",
       "    <tr>\n",
       "      <th>1</th>\n",
       "      <td>MSE</td>\n",
       "      <td>0.0</td>\n",
       "    </tr>\n",
       "    <tr>\n",
       "      <th>2</th>\n",
       "      <td>RMSE</td>\n",
       "      <td>0.0</td>\n",
       "    </tr>\n",
       "    <tr>\n",
       "      <th>3</th>\n",
       "      <td>R2</td>\n",
       "      <td>1.0</td>\n",
       "    </tr>\n",
       "  </tbody>\n",
       "</table>\n",
       "</div>"
      ],
      "text/plain": [
       "  Metric  Accuracy score\n",
       "0    MAE             0.0\n",
       "1    MSE             0.0\n",
       "2   RMSE             0.0\n",
       "3     R2             1.0"
      ]
     },
     "execution_count": 49,
     "metadata": {},
     "output_type": "execute_result"
    }
   ],
   "source": [
    "RidgeReg = Ridge().fit(X_train, y_train)\n",
    "RidgeReg.score(X_train, y_train)\n",
    "# LinReg.coef_\n",
    "# LinReg.intercept_\n",
    "y_pred = RidgeReg.predict(X_test)\n",
    "\n",
    "mae_acc = mean_absolute_error(y_pred, y_test) \n",
    "mse_acc = mean_squared_error(y_pred, y_test) \n",
    "rmse_acc = mean_squared_error(y_pred, y_test, squared=False)\n",
    "r2_acc = r2_score(y_pred, y_test)\n",
    "\n",
    "accuracy = pd.DataFrame({\n",
    "    \"Metric\" : [\"MAE\", \"MSE\", \"RMSE\", \"R2\"],\n",
    "    \"Accuracy score\" : [mae_acc, mse_acc, rmse_acc, r2_acc]\n",
    "})\n",
    "accuracy.sort_values(by = \"Accuracy score\")"
   ]
  },
  {
   "cell_type": "markdown",
   "metadata": {},
   "source": [
    "### RidgeCV"
   ]
  },
  {
   "cell_type": "code",
   "execution_count": 50,
   "metadata": {},
   "outputs": [
    {
     "data": {
      "text/html": [
       "<div>\n",
       "<style scoped>\n",
       "    .dataframe tbody tr th:only-of-type {\n",
       "        vertical-align: middle;\n",
       "    }\n",
       "\n",
       "    .dataframe tbody tr th {\n",
       "        vertical-align: top;\n",
       "    }\n",
       "\n",
       "    .dataframe thead th {\n",
       "        text-align: right;\n",
       "    }\n",
       "</style>\n",
       "<table border=\"1\" class=\"dataframe\">\n",
       "  <thead>\n",
       "    <tr style=\"text-align: right;\">\n",
       "      <th></th>\n",
       "      <th>Metric</th>\n",
       "      <th>Accuracy score</th>\n",
       "    </tr>\n",
       "  </thead>\n",
       "  <tbody>\n",
       "    <tr>\n",
       "      <th>0</th>\n",
       "      <td>MAE</td>\n",
       "      <td>0.0</td>\n",
       "    </tr>\n",
       "    <tr>\n",
       "      <th>1</th>\n",
       "      <td>MSE</td>\n",
       "      <td>0.0</td>\n",
       "    </tr>\n",
       "    <tr>\n",
       "      <th>2</th>\n",
       "      <td>RMSE</td>\n",
       "      <td>0.0</td>\n",
       "    </tr>\n",
       "    <tr>\n",
       "      <th>3</th>\n",
       "      <td>R2</td>\n",
       "      <td>1.0</td>\n",
       "    </tr>\n",
       "  </tbody>\n",
       "</table>\n",
       "</div>"
      ],
      "text/plain": [
       "  Metric  Accuracy score\n",
       "0    MAE             0.0\n",
       "1    MSE             0.0\n",
       "2   RMSE             0.0\n",
       "3     R2             1.0"
      ]
     },
     "execution_count": 50,
     "metadata": {},
     "output_type": "execute_result"
    }
   ],
   "source": [
    "RidgeCVReg = RidgeCV().fit(X_train, y_train)\n",
    "RidgeCVReg.score(X_train, y_train)\n",
    "# LinReg.coef_\n",
    "# LinReg.intercept_\n",
    "y_pred = RidgeCVReg.predict(X_test)\n",
    "\n",
    "mae_acc = mean_absolute_error(y_pred, y_test) \n",
    "mse_acc = mean_squared_error(y_pred, y_test) \n",
    "rmse_acc = mean_squared_error(y_pred, y_test, squared=False)\n",
    "r2_acc = r2_score(y_pred, y_test)\n",
    "\n",
    "accuracy = pd.DataFrame({\n",
    "    \"Metric\" : [\"MAE\", \"MSE\", \"RMSE\", \"R2\"],\n",
    "    \"Accuracy score\" : [mae_acc, mse_acc, rmse_acc, r2_acc]\n",
    "})\n",
    "accuracy.sort_values(by = \"Accuracy score\")"
   ]
  },
  {
   "cell_type": "markdown",
   "metadata": {},
   "source": [
    "### Fit All data and export"
   ]
  },
  {
   "cell_type": "code",
   "execution_count": 114,
   "metadata": {},
   "outputs": [],
   "source": [
    "df_train = df_open.copy()\n",
    "y = df_train[\"plooking_pos_x\"]\n",
    "X = df_train.drop([\"plooking_pos_x\", \"plooking_pos_y\"], axis = 1)\n",
    "\n",
    "RidgeCVReg_x = RidgeCV().fit(X, y)"
   ]
  },
  {
   "cell_type": "code",
   "execution_count": 115,
   "metadata": {},
   "outputs": [],
   "source": [
    "df_train = df_open.copy()\n",
    "y = df_train[\"plooking_pos_y\"]\n",
    "X = df_train.drop([\"plooking_pos_x\", \"plooking_pos_y\"], axis = 1)\n",
    "\n",
    "RidgeCVReg_y = LinearRegression().fit(X, y)"
   ]
  },
  {
   "cell_type": "code",
   "execution_count": 116,
   "metadata": {},
   "outputs": [
    {
     "data": {
      "text/plain": [
       "['Models/RidgeCVReg_y.joblib']"
      ]
     },
     "execution_count": 116,
     "metadata": {},
     "output_type": "execute_result"
    }
   ],
   "source": [
    "from joblib import dump, load\n",
    "dump(RidgeCVReg_x, 'Models/RidgeCVReg_x.joblib')\n",
    "dump(RidgeCVReg_y, 'Models/RidgeCVReg_y.joblib')"
   ]
  }
 ],
 "metadata": {
  "kernelspec": {
   "display_name": "Python 3.8.3 64-bit",
   "language": "python",
   "name": "python3"
  },
  "language_info": {
   "codemirror_mode": {
    "name": "ipython",
    "version": 3
   },
   "file_extension": ".py",
   "mimetype": "text/x-python",
   "name": "python",
   "nbconvert_exporter": "python",
   "pygments_lexer": "ipython3",
   "version": "3.8.3"
  },
  "vscode": {
   "interpreter": {
    "hash": "9650cb4e16cdd4a8e8e2d128bf38d875813998db22a3c986335f89e0cb4d7bb2"
   }
  }
 },
 "nbformat": 4,
 "nbformat_minor": 4
}
