{
 "cells": [
  {
   "cell_type": "code",
   "execution_count": 20,
   "metadata": {},
   "outputs": [],
   "source": [
    "import csv\n",
    "import numpy as np # linear algebra\n",
    "import pandas as pd # data processing, CSV file I/O (e.g. pd.read_csv)\n",
    "import matplotlib.pyplot as plt\n",
    "import seaborn as sns\n",
    "import pandas as pd\n",
    "import glob\n",
    "import os\n",
    "\n",
    "# Get All tracking data\n",
    "path = r'C:\\Users\\gabri\\OneDrive\\Documentos\\GitHub\\OlhosTracker\\tracking_data' # use your path\n",
    "all_files = glob.glob(os.path.join(path , \"*.csv\"))\n",
    "\n",
    "li = []\n",
    "\n",
    "for filename in all_files:\n",
    "    df = pd.read_csv(filename, index_col=None, header=0)\n",
    "    li.append(df)\n",
    "\n",
    "df = pd.concat(li, axis=0, ignore_index=True)\n",
    "# df = pd.read_csv(\"tracking.csv\")\n",
    "df = df.filter(df.columns[1:])\n",
    "\n"
   ]
  },
  {
   "cell_type": "code",
   "execution_count": 21,
   "metadata": {},
   "outputs": [
    {
     "data": {
      "text/html": [
       "<div>\n",
       "<style scoped>\n",
       "    .dataframe tbody tr th:only-of-type {\n",
       "        vertical-align: middle;\n",
       "    }\n",
       "\n",
       "    .dataframe tbody tr th {\n",
       "        vertical-align: top;\n",
       "    }\n",
       "\n",
       "    .dataframe thead th {\n",
       "        text-align: right;\n",
       "    }\n",
       "</style>\n",
       "<table border=\"1\" class=\"dataframe\">\n",
       "  <thead>\n",
       "    <tr style=\"text-align: right;\">\n",
       "      <th></th>\n",
       "      <th>468</th>\n",
       "      <th>469</th>\n",
       "      <th>470</th>\n",
       "      <th>471</th>\n",
       "      <th>472</th>\n",
       "      <th>473</th>\n",
       "      <th>474</th>\n",
       "      <th>475</th>\n",
       "      <th>476</th>\n",
       "      <th>477</th>\n",
       "      <th>head_rotation_hor</th>\n",
       "      <th>head_rotation_ver</th>\n",
       "      <th>head_pos</th>\n",
       "      <th>looking_pos</th>\n",
       "    </tr>\n",
       "  </thead>\n",
       "  <tbody>\n",
       "    <tr>\n",
       "      <th>0</th>\n",
       "      <td>[-0.0047451714957854295, 0.38155319623590495]</td>\n",
       "      <td>[-0.005694507316041395, 0.38209822425920537]</td>\n",
       "      <td>[-0.004724815912448636, 0.4492576498580172]</td>\n",
       "      <td>[-0.004064298599776651, 0.38138281788025213]</td>\n",
       "      <td>[-0.004763699198066832, 0.3317439799843848]</td>\n",
       "      <td>[0.004617006254072035, 0.39646536191654735]</td>\n",
       "      <td>[0.003955060627462117, 0.39590151716639727]</td>\n",
       "      <td>[0.0046383165531206005, 0.47143376203572035]</td>\n",
       "      <td>[0.005554807375216468, 0.3972627607714971]</td>\n",
       "      <td>[0.004598725550174672, 0.3418885759759963]</td>\n",
       "      <td>[-0.0006821751594543457]</td>\n",
       "      <td>[-0.00025922060012817383]</td>\n",
       "      <td>[0.5651480555534363, 0.49295490980148315]</td>\n",
       "      <td>[712, 227]</td>\n",
       "    </tr>\n",
       "    <tr>\n",
       "      <th>1</th>\n",
       "      <td>[-0.005081075468969584, 0.3858490286188909]</td>\n",
       "      <td>[-0.006159399118095229, 0.38760067069865206]</td>\n",
       "      <td>[-0.005064970827350029, 0.4589006429131647]</td>\n",
       "      <td>[-0.0043191104958514095, 0.3844332008657379]</td>\n",
       "      <td>[-0.005092813866071222, 0.3329272530564309]</td>\n",
       "      <td>[0.00497325193986949, 0.39255255122797994]</td>\n",
       "      <td>[0.004249819809873054, 0.3916823647068293]</td>\n",
       "      <td>[0.004987842520602196, 0.46899706417896164]</td>\n",
       "      <td>[0.006000770733159918, 0.39364527862650955]</td>\n",
       "      <td>[0.004960854035839211, 0.3373942495710124]</td>\n",
       "      <td>[-0.0008634328842163086]</td>\n",
       "      <td>[-0.00025719404220581055]</td>\n",
       "      <td>[0.5674222707748413, 0.4855470061302185]</td>\n",
       "      <td>[712, 227]</td>\n",
       "    </tr>\n",
       "  </tbody>\n",
       "</table>\n",
       "</div>"
      ],
      "text/plain": [
       "                                             468  \\\n",
       "0  [-0.0047451714957854295, 0.38155319623590495]   \n",
       "1    [-0.005081075468969584, 0.3858490286188909]   \n",
       "\n",
       "                                            469  \\\n",
       "0  [-0.005694507316041395, 0.38209822425920537]   \n",
       "1  [-0.006159399118095229, 0.38760067069865206]   \n",
       "\n",
       "                                           470  \\\n",
       "0  [-0.004724815912448636, 0.4492576498580172]   \n",
       "1  [-0.005064970827350029, 0.4589006429131647]   \n",
       "\n",
       "                                            471  \\\n",
       "0  [-0.004064298599776651, 0.38138281788025213]   \n",
       "1  [-0.0043191104958514095, 0.3844332008657379]   \n",
       "\n",
       "                                           472  \\\n",
       "0  [-0.004763699198066832, 0.3317439799843848]   \n",
       "1  [-0.005092813866071222, 0.3329272530564309]   \n",
       "\n",
       "                                           473  \\\n",
       "0  [0.004617006254072035, 0.39646536191654735]   \n",
       "1   [0.00497325193986949, 0.39255255122797994]   \n",
       "\n",
       "                                           474  \\\n",
       "0  [0.003955060627462117, 0.39590151716639727]   \n",
       "1   [0.004249819809873054, 0.3916823647068293]   \n",
       "\n",
       "                                            475  \\\n",
       "0  [0.0046383165531206005, 0.47143376203572035]   \n",
       "1   [0.004987842520602196, 0.46899706417896164]   \n",
       "\n",
       "                                           476  \\\n",
       "0   [0.005554807375216468, 0.3972627607714971]   \n",
       "1  [0.006000770733159918, 0.39364527862650955]   \n",
       "\n",
       "                                          477         head_rotation_hor  \\\n",
       "0  [0.004598725550174672, 0.3418885759759963]  [-0.0006821751594543457]   \n",
       "1  [0.004960854035839211, 0.3373942495710124]  [-0.0008634328842163086]   \n",
       "\n",
       "           head_rotation_ver                                   head_pos  \\\n",
       "0  [-0.00025922060012817383]  [0.5651480555534363, 0.49295490980148315]   \n",
       "1  [-0.00025719404220581055]   [0.5674222707748413, 0.4855470061302185]   \n",
       "\n",
       "  looking_pos  \n",
       "0  [712, 227]  \n",
       "1  [712, 227]  "
      ]
     },
     "execution_count": 21,
     "metadata": {},
     "output_type": "execute_result"
    }
   ],
   "source": [
    "df.head(2)"
   ]
  },
  {
   "cell_type": "code",
   "execution_count": 22,
   "metadata": {},
   "outputs": [
    {
     "name": "stdout",
     "output_type": "stream",
     "text": [
      "p468\n",
      "p469\n",
      "p470\n",
      "p471\n",
      "p472\n",
      "p473\n",
      "p474\n",
      "p475\n",
      "p476\n",
      "p477\n",
      "phead_rotation_hor\n",
      "phead_rotation_ver\n",
      "phead_pos\n",
      "plooking_pos\n"
     ]
    },
    {
     "data": {
      "text/html": [
       "<div>\n",
       "<style scoped>\n",
       "    .dataframe tbody tr th:only-of-type {\n",
       "        vertical-align: middle;\n",
       "    }\n",
       "\n",
       "    .dataframe tbody tr th {\n",
       "        vertical-align: top;\n",
       "    }\n",
       "\n",
       "    .dataframe thead th {\n",
       "        text-align: right;\n",
       "    }\n",
       "</style>\n",
       "<table border=\"1\" class=\"dataframe\">\n",
       "  <thead>\n",
       "    <tr style=\"text-align: right;\">\n",
       "      <th></th>\n",
       "      <th>p468</th>\n",
       "      <th>p469</th>\n",
       "      <th>p470</th>\n",
       "      <th>p471</th>\n",
       "      <th>p472</th>\n",
       "      <th>p473</th>\n",
       "      <th>p474</th>\n",
       "      <th>p475</th>\n",
       "      <th>p476</th>\n",
       "      <th>p477</th>\n",
       "      <th>phead_rotation_hor</th>\n",
       "      <th>phead_rotation_ver</th>\n",
       "      <th>phead_pos</th>\n",
       "      <th>plooking_pos</th>\n",
       "    </tr>\n",
       "  </thead>\n",
       "  <tbody>\n",
       "    <tr>\n",
       "      <th>0</th>\n",
       "      <td>[-0.0047451714957854295, 0.38155319623590495]</td>\n",
       "      <td>[-0.005694507316041395, 0.38209822425920537]</td>\n",
       "      <td>[-0.004724815912448636, 0.4492576498580172]</td>\n",
       "      <td>[-0.004064298599776651, 0.38138281788025213]</td>\n",
       "      <td>[-0.004763699198066832, 0.3317439799843848]</td>\n",
       "      <td>[0.004617006254072035, 0.39646536191654735]</td>\n",
       "      <td>[0.003955060627462117, 0.39590151716639727]</td>\n",
       "      <td>[0.0046383165531206005, 0.47143376203572035]</td>\n",
       "      <td>[0.005554807375216468, 0.3972627607714971]</td>\n",
       "      <td>[0.004598725550174672, 0.3418885759759963]</td>\n",
       "      <td>[-0.0006821751594543457]</td>\n",
       "      <td>[-0.00025922060012817383]</td>\n",
       "      <td>[0.5651480555534363, 0.49295490980148315]</td>\n",
       "      <td>[712.0, 227.0]</td>\n",
       "    </tr>\n",
       "    <tr>\n",
       "      <th>1</th>\n",
       "      <td>[-0.005081075468969584, 0.3858490286188909]</td>\n",
       "      <td>[-0.006159399118095229, 0.38760067069865206]</td>\n",
       "      <td>[-0.005064970827350029, 0.4589006429131647]</td>\n",
       "      <td>[-0.0043191104958514095, 0.3844332008657379]</td>\n",
       "      <td>[-0.005092813866071222, 0.3329272530564309]</td>\n",
       "      <td>[0.00497325193986949, 0.39255255122797994]</td>\n",
       "      <td>[0.004249819809873054, 0.3916823647068293]</td>\n",
       "      <td>[0.004987842520602196, 0.46899706417896164]</td>\n",
       "      <td>[0.006000770733159918, 0.39364527862650955]</td>\n",
       "      <td>[0.004960854035839211, 0.3373942495710124]</td>\n",
       "      <td>[-0.0008634328842163086]</td>\n",
       "      <td>[-0.00025719404220581055]</td>\n",
       "      <td>[0.5674222707748413, 0.4855470061302185]</td>\n",
       "      <td>[712.0, 227.0]</td>\n",
       "    </tr>\n",
       "  </tbody>\n",
       "</table>\n",
       "</div>"
      ],
      "text/plain": [
       "                                            p468  \\\n",
       "0  [-0.0047451714957854295, 0.38155319623590495]   \n",
       "1    [-0.005081075468969584, 0.3858490286188909]   \n",
       "\n",
       "                                           p469  \\\n",
       "0  [-0.005694507316041395, 0.38209822425920537]   \n",
       "1  [-0.006159399118095229, 0.38760067069865206]   \n",
       "\n",
       "                                          p470  \\\n",
       "0  [-0.004724815912448636, 0.4492576498580172]   \n",
       "1  [-0.005064970827350029, 0.4589006429131647]   \n",
       "\n",
       "                                           p471  \\\n",
       "0  [-0.004064298599776651, 0.38138281788025213]   \n",
       "1  [-0.0043191104958514095, 0.3844332008657379]   \n",
       "\n",
       "                                          p472  \\\n",
       "0  [-0.004763699198066832, 0.3317439799843848]   \n",
       "1  [-0.005092813866071222, 0.3329272530564309]   \n",
       "\n",
       "                                          p473  \\\n",
       "0  [0.004617006254072035, 0.39646536191654735]   \n",
       "1   [0.00497325193986949, 0.39255255122797994]   \n",
       "\n",
       "                                          p474  \\\n",
       "0  [0.003955060627462117, 0.39590151716639727]   \n",
       "1   [0.004249819809873054, 0.3916823647068293]   \n",
       "\n",
       "                                           p475  \\\n",
       "0  [0.0046383165531206005, 0.47143376203572035]   \n",
       "1   [0.004987842520602196, 0.46899706417896164]   \n",
       "\n",
       "                                          p476  \\\n",
       "0   [0.005554807375216468, 0.3972627607714971]   \n",
       "1  [0.006000770733159918, 0.39364527862650955]   \n",
       "\n",
       "                                         p477        phead_rotation_hor  \\\n",
       "0  [0.004598725550174672, 0.3418885759759963]  [-0.0006821751594543457]   \n",
       "1  [0.004960854035839211, 0.3373942495710124]  [-0.0008634328842163086]   \n",
       "\n",
       "          phead_rotation_ver                                  phead_pos  \\\n",
       "0  [-0.00025922060012817383]  [0.5651480555534363, 0.49295490980148315]   \n",
       "1  [-0.00025719404220581055]   [0.5674222707748413, 0.4855470061302185]   \n",
       "\n",
       "     plooking_pos  \n",
       "0  [712.0, 227.0]  \n",
       "1  [712.0, 227.0]  "
      ]
     },
     "execution_count": 22,
     "metadata": {},
     "output_type": "execute_result"
    }
   ],
   "source": [
    "\n",
    "\n",
    "for col in df.columns:\n",
    "    df.rename(columns={col:'p' + col},inplace=True)\n",
    "########################################################################\n",
    "def str_to_list(cell):\n",
    "    cell = ''.join(c for c in cell if c not in \"'[]\")\n",
    "    cell = (cell.split(', '))      \n",
    "    return list(map(float, cell))\n",
    "\n",
    "for c in df.columns:    \n",
    "    df[c] = df[c].apply(str_to_list)\n",
    "    print(c)\n",
    "df.head(2)"
   ]
  },
  {
   "cell_type": "code",
   "execution_count": 23,
   "metadata": {},
   "outputs": [
    {
     "data": {
      "text/html": [
       "<div>\n",
       "<style scoped>\n",
       "    .dataframe tbody tr th:only-of-type {\n",
       "        vertical-align: middle;\n",
       "    }\n",
       "\n",
       "    .dataframe tbody tr th {\n",
       "        vertical-align: top;\n",
       "    }\n",
       "\n",
       "    .dataframe thead th {\n",
       "        text-align: right;\n",
       "    }\n",
       "</style>\n",
       "<table border=\"1\" class=\"dataframe\">\n",
       "  <thead>\n",
       "    <tr style=\"text-align: right;\">\n",
       "      <th></th>\n",
       "      <th>p468_x</th>\n",
       "      <th>p468_y</th>\n",
       "      <th>p469_x</th>\n",
       "      <th>p469_y</th>\n",
       "      <th>p470_x</th>\n",
       "      <th>p470_y</th>\n",
       "      <th>p471_x</th>\n",
       "      <th>p471_y</th>\n",
       "      <th>p472_x</th>\n",
       "      <th>p472_y</th>\n",
       "      <th>...</th>\n",
       "      <th>p476_x</th>\n",
       "      <th>p476_y</th>\n",
       "      <th>p477_x</th>\n",
       "      <th>p477_y</th>\n",
       "      <th>phead_rotation_hor_deg</th>\n",
       "      <th>phead_rotation_ver_deg</th>\n",
       "      <th>phead_pos_x</th>\n",
       "      <th>phead_pos_y</th>\n",
       "      <th>plooking_pos_x</th>\n",
       "      <th>plooking_pos_y</th>\n",
       "    </tr>\n",
       "  </thead>\n",
       "  <tbody>\n",
       "    <tr>\n",
       "      <th>0</th>\n",
       "      <td>-0.004745</td>\n",
       "      <td>0.381553</td>\n",
       "      <td>-0.005695</td>\n",
       "      <td>0.382098</td>\n",
       "      <td>-0.004725</td>\n",
       "      <td>0.449258</td>\n",
       "      <td>-0.004064</td>\n",
       "      <td>0.381383</td>\n",
       "      <td>-0.004764</td>\n",
       "      <td>0.331744</td>\n",
       "      <td>...</td>\n",
       "      <td>0.005555</td>\n",
       "      <td>0.397263</td>\n",
       "      <td>0.004599</td>\n",
       "      <td>0.341889</td>\n",
       "      <td>-0.000682</td>\n",
       "      <td>-0.000259</td>\n",
       "      <td>0.565148</td>\n",
       "      <td>0.492955</td>\n",
       "      <td>712.0</td>\n",
       "      <td>227.0</td>\n",
       "    </tr>\n",
       "    <tr>\n",
       "      <th>1</th>\n",
       "      <td>-0.005081</td>\n",
       "      <td>0.385849</td>\n",
       "      <td>-0.006159</td>\n",
       "      <td>0.387601</td>\n",
       "      <td>-0.005065</td>\n",
       "      <td>0.458901</td>\n",
       "      <td>-0.004319</td>\n",
       "      <td>0.384433</td>\n",
       "      <td>-0.005093</td>\n",
       "      <td>0.332927</td>\n",
       "      <td>...</td>\n",
       "      <td>0.006001</td>\n",
       "      <td>0.393645</td>\n",
       "      <td>0.004961</td>\n",
       "      <td>0.337394</td>\n",
       "      <td>-0.000863</td>\n",
       "      <td>-0.000257</td>\n",
       "      <td>0.567422</td>\n",
       "      <td>0.485547</td>\n",
       "      <td>712.0</td>\n",
       "      <td>227.0</td>\n",
       "    </tr>\n",
       "  </tbody>\n",
       "</table>\n",
       "<p>2 rows × 26 columns</p>\n",
       "</div>"
      ],
      "text/plain": [
       "     p468_x    p468_y    p469_x    p469_y    p470_x    p470_y    p471_x  \\\n",
       "0 -0.004745  0.381553 -0.005695  0.382098 -0.004725  0.449258 -0.004064   \n",
       "1 -0.005081  0.385849 -0.006159  0.387601 -0.005065  0.458901 -0.004319   \n",
       "\n",
       "     p471_y    p472_x    p472_y  ...    p476_x    p476_y    p477_x    p477_y  \\\n",
       "0  0.381383 -0.004764  0.331744  ...  0.005555  0.397263  0.004599  0.341889   \n",
       "1  0.384433 -0.005093  0.332927  ...  0.006001  0.393645  0.004961  0.337394   \n",
       "\n",
       "   phead_rotation_hor_deg  phead_rotation_ver_deg  phead_pos_x  phead_pos_y  \\\n",
       "0               -0.000682               -0.000259     0.565148     0.492955   \n",
       "1               -0.000863               -0.000257     0.567422     0.485547   \n",
       "\n",
       "   plooking_pos_x  plooking_pos_y  \n",
       "0           712.0           227.0  \n",
       "1           712.0           227.0  \n",
       "\n",
       "[2 rows x 26 columns]"
      ]
     },
     "execution_count": 23,
     "metadata": {},
     "output_type": "execute_result"
    }
   ],
   "source": [
    "df_open = df.copy()\n",
    "\n",
    "f =[]\n",
    "for c in df.columns:    \n",
    "    if c not in ['phead_rotation_hor','phead_rotation_ver']:\n",
    "        new_columns = [(c +\"_x\"),(c +\"_y\")]      \n",
    "        df_open[new_columns] = pd.DataFrame(df_open[c].tolist(), index= df.index)\n",
    "    else:\n",
    "        df_open[c + \"_deg\"] = pd.DataFrame(df_open[c].tolist(), index= df.index)\n",
    "\n",
    "df_open = df_open.drop(df.columns, axis=1)\n",
    "\n",
    "df_open.head(2)   "
   ]
  },
  {
   "cell_type": "code",
   "execution_count": 24,
   "metadata": {},
   "outputs": [],
   "source": [
    "from sklearn.preprocessing import OneHotEncoder, LabelEncoder\n",
    "from sklearn.model_selection import train_test_split\n",
    "# from sklearn.tree import DecisionTreeClassifier\n",
    "# from sklearn.ensemble import RandomForestClassifier\n",
    "# from sklearn.naive_bayes import GaussianNB\n",
    "# from sklearn.neighbors import KNeighborsClassifier\n",
    "# from sklearn.svm import SVC\n",
    "from sklearn.metrics import confusion_matrix, accuracy_score, precision_recall_curve, mean_squared_error, mean_absolute_error, r2_score\n",
    "from sklearn.linear_model import LinearRegression, Ridge, RidgeCV, SGDRegressor"
   ]
  },
  {
   "cell_type": "markdown",
   "metadata": {},
   "source": [
    "### Prep Data"
   ]
  },
  {
   "cell_type": "code",
   "execution_count": 25,
   "metadata": {},
   "outputs": [
    {
     "data": {
      "text/plain": [
       "((8340, 24), (5560, 24), (8340,), (5560,))"
      ]
     },
     "execution_count": 25,
     "metadata": {},
     "output_type": "execute_result"
    }
   ],
   "source": [
    "df_train = df_open.copy()\n",
    "y = df_train[\"plooking_pos_x\"]\n",
    "X = df_train.drop([\"plooking_pos_x\", \"plooking_pos_y\"], axis = 1)\n",
    "X_train, X_test, y_train, y_test = train_test_split(X, y, test_size = 0.4, random_state = 1)\n",
    "X_train.shape, X_test.shape, y_train.shape, y_test.shape"
   ]
  },
  {
   "cell_type": "markdown",
   "metadata": {},
   "source": [
    "## Decision tree classifier"
   ]
  },
  {
   "cell_type": "code",
   "execution_count": 26,
   "metadata": {},
   "outputs": [
    {
     "data": {
      "text/plain": [
       "10717     336.0\n",
       "2932      417.0\n",
       "12127    1160.0\n",
       "790      1572.0\n",
       "10623    1496.0\n",
       "          ...  \n",
       "11017    1375.0\n",
       "1383     1317.0\n",
       "9816      576.0\n",
       "6600      251.0\n",
       "2261      967.0\n",
       "Name: plooking_pos_x, Length: 5560, dtype: float64"
      ]
     },
     "execution_count": 26,
     "metadata": {},
     "output_type": "execute_result"
    }
   ],
   "source": [
    "y_test"
   ]
  },
  {
   "cell_type": "code",
   "execution_count": 27,
   "metadata": {},
   "outputs": [],
   "source": [
    "# decision_tree_model = DecisionTreeClassifier(random_state = 2)\n",
    "# decision_tree_model.fit(X_train, y_train)\n",
    "# y_pred = decision_tree_model.predict(X_test)\n",
    "# decision_tree_model_acc = accuracy_score(y_pred, y_test) * 100\n",
    "# print(\"Accuracy:\", decision_tree_model_acc)"
   ]
  },
  {
   "cell_type": "markdown",
   "metadata": {},
   "source": [
    "### Random forest classifier"
   ]
  },
  {
   "cell_type": "code",
   "execution_count": 28,
   "metadata": {},
   "outputs": [],
   "source": [
    "# random_forest_model = RandomForestClassifier(criterion='gini',\n",
    "#                                             n_estimators=1750,\n",
    "#                                             max_depth=7,\n",
    "#                                             min_samples_split=6,\n",
    "#                                             min_samples_leaf=6,\n",
    "#                                             max_features='auto',\n",
    "#                                             verbose=1,\n",
    "#                                             random_state = 3)\n",
    "# random_forest_model.fit(X_train, y_train)\n",
    "# y_pred = random_forest_model.predict(X_test)\n",
    "# random_forest_model_acc = accuracy_score(y_pred, y_test) * 100\n",
    "# print(\"Accuracy:\", random_forest_model_acc)"
   ]
  },
  {
   "cell_type": "markdown",
   "metadata": {},
   "source": [
    "### Naive Bayes classifier"
   ]
  },
  {
   "cell_type": "code",
   "execution_count": 29,
   "metadata": {},
   "outputs": [],
   "source": [
    "# NB_model = GaussianNB()\n",
    "# NB_model.fit(X_train, y_train)\n",
    "# y_pred = NB_model.predict(X_test)\n",
    "# NB_model_acc = accuracy_score(y_pred, y_test) * 100\n",
    "# print(\"Accuracy:\", NB_model_acc)"
   ]
  },
  {
   "cell_type": "markdown",
   "metadata": {},
   "source": [
    "### K-nearest neighbours classifier"
   ]
  },
  {
   "cell_type": "code",
   "execution_count": 30,
   "metadata": {},
   "outputs": [],
   "source": [
    "# knn_model = KNeighborsClassifier(n_neighbors = 8)\n",
    "# knn_model.fit(X_train, y_train)\n",
    "# y_pred = knn_model.predict(X_test)\n",
    "# knn_model_acc = accuracy_score(y_pred, y_test) * 100\n",
    "# print(\"Accuracy:\", knn_model_acc)"
   ]
  },
  {
   "cell_type": "markdown",
   "metadata": {},
   "source": [
    "### Support vector machines"
   ]
  },
  {
   "cell_type": "code",
   "execution_count": 31,
   "metadata": {},
   "outputs": [],
   "source": [
    "# svm_model = SVC()\n",
    "# svm_model.fit(X_train, y_train)\n",
    "# y_pred = svm_model.predict(X_test)\n",
    "# svm_model_acc = accuracy_score(y_pred, y_test) * 100\n",
    "# print(\"Accuracy:\", svm_model_acc)"
   ]
  },
  {
   "cell_type": "code",
   "execution_count": 32,
   "metadata": {},
   "outputs": [],
   "source": [
    "# all_models = pd.DataFrame({\n",
    "#     \"Model\" : [\"Decision tree classifier\", \"Random forest classifier\", \"Naive Bayes classifier\", \"KNN\", \"SVM\"],\n",
    "#     \"Accuracy score\" : [decision_tree_model_acc, random_forest_model_acc, NB_model_acc, knn_model_acc, svm_model_acc]\n",
    "# })\n",
    "# all_models.sort_values(by = \"Accuracy score\")"
   ]
  },
  {
   "cell_type": "markdown",
   "metadata": {},
   "source": [
    "### LinearRegression"
   ]
  },
  {
   "cell_type": "code",
   "execution_count": 33,
   "metadata": {},
   "outputs": [
    {
     "data": {
      "text/html": [
       "<div>\n",
       "<style scoped>\n",
       "    .dataframe tbody tr th:only-of-type {\n",
       "        vertical-align: middle;\n",
       "    }\n",
       "\n",
       "    .dataframe tbody tr th {\n",
       "        vertical-align: top;\n",
       "    }\n",
       "\n",
       "    .dataframe thead th {\n",
       "        text-align: right;\n",
       "    }\n",
       "</style>\n",
       "<table border=\"1\" class=\"dataframe\">\n",
       "  <thead>\n",
       "    <tr style=\"text-align: right;\">\n",
       "      <th></th>\n",
       "      <th>Metric</th>\n",
       "      <th>Accuracy score</th>\n",
       "    </tr>\n",
       "  </thead>\n",
       "  <tbody>\n",
       "    <tr>\n",
       "      <th>3</th>\n",
       "      <td>R2</td>\n",
       "      <td>0.833050</td>\n",
       "    </tr>\n",
       "    <tr>\n",
       "      <th>0</th>\n",
       "      <td>MAE</td>\n",
       "      <td>137.041347</td>\n",
       "    </tr>\n",
       "    <tr>\n",
       "      <th>2</th>\n",
       "      <td>RMSE</td>\n",
       "      <td>208.446292</td>\n",
       "    </tr>\n",
       "    <tr>\n",
       "      <th>1</th>\n",
       "      <td>MSE</td>\n",
       "      <td>43449.856451</td>\n",
       "    </tr>\n",
       "  </tbody>\n",
       "</table>\n",
       "</div>"
      ],
      "text/plain": [
       "  Metric  Accuracy score\n",
       "3     R2        0.833050\n",
       "0    MAE      137.041347\n",
       "2   RMSE      208.446292\n",
       "1    MSE    43449.856451"
      ]
     },
     "execution_count": 33,
     "metadata": {},
     "output_type": "execute_result"
    }
   ],
   "source": [
    "LinReg = LinearRegression().fit(X_train, y_train)\n",
    "LinReg.score(X_train, y_train)\n",
    "# LinReg.coef_\n",
    "# LinReg.intercept_\n",
    "y_pred = LinReg.predict(X_test)\n",
    "\n",
    "mae_acc = mean_absolute_error(y_pred, y_test) \n",
    "mse_acc = mean_squared_error(y_pred, y_test) \n",
    "rmse_acc = mean_squared_error(y_pred, y_test, squared=False)\n",
    "r2_acc = r2_score(y_pred, y_test)\n",
    "\n",
    "accuracy = pd.DataFrame({\n",
    "    \"Metric\" : [\"MAE\", \"MSE\", \"RMSE\", \"R2\"],\n",
    "    \"Accuracy score\" : [mae_acc, mse_acc, rmse_acc, r2_acc]\n",
    "})\n",
    "accuracy.sort_values(by = \"Accuracy score\")"
   ]
  },
  {
   "cell_type": "markdown",
   "metadata": {},
   "source": [
    "### Ridge"
   ]
  },
  {
   "cell_type": "code",
   "execution_count": 34,
   "metadata": {},
   "outputs": [
    {
     "data": {
      "text/html": [
       "<div>\n",
       "<style scoped>\n",
       "    .dataframe tbody tr th:only-of-type {\n",
       "        vertical-align: middle;\n",
       "    }\n",
       "\n",
       "    .dataframe tbody tr th {\n",
       "        vertical-align: top;\n",
       "    }\n",
       "\n",
       "    .dataframe thead th {\n",
       "        text-align: right;\n",
       "    }\n",
       "</style>\n",
       "<table border=\"1\" class=\"dataframe\">\n",
       "  <thead>\n",
       "    <tr style=\"text-align: right;\">\n",
       "      <th></th>\n",
       "      <th>Metric</th>\n",
       "      <th>Accuracy score</th>\n",
       "    </tr>\n",
       "  </thead>\n",
       "  <tbody>\n",
       "    <tr>\n",
       "      <th>3</th>\n",
       "      <td>R2</td>\n",
       "      <td>-1.574955</td>\n",
       "    </tr>\n",
       "    <tr>\n",
       "      <th>0</th>\n",
       "      <td>MAE</td>\n",
       "      <td>334.849947</td>\n",
       "    </tr>\n",
       "    <tr>\n",
       "      <th>2</th>\n",
       "      <td>RMSE</td>\n",
       "      <td>408.267102</td>\n",
       "    </tr>\n",
       "    <tr>\n",
       "      <th>1</th>\n",
       "      <td>MSE</td>\n",
       "      <td>166682.026669</td>\n",
       "    </tr>\n",
       "  </tbody>\n",
       "</table>\n",
       "</div>"
      ],
      "text/plain": [
       "  Metric  Accuracy score\n",
       "3     R2       -1.574955\n",
       "0    MAE      334.849947\n",
       "2   RMSE      408.267102\n",
       "1    MSE   166682.026669"
      ]
     },
     "execution_count": 34,
     "metadata": {},
     "output_type": "execute_result"
    }
   ],
   "source": [
    "RidgeReg = Ridge().fit(X_train, y_train)\n",
    "RidgeReg.score(X_train, y_train)\n",
    "# LinReg.coef_\n",
    "# LinReg.intercept_\n",
    "y_pred = RidgeReg.predict(X_test)\n",
    "\n",
    "mae_acc = mean_absolute_error(y_pred, y_test) \n",
    "mse_acc = mean_squared_error(y_pred, y_test) \n",
    "rmse_acc = mean_squared_error(y_pred, y_test, squared=False)\n",
    "r2_acc = r2_score(y_pred, y_test)\n",
    "\n",
    "accuracy = pd.DataFrame({\n",
    "    \"Metric\" : [\"MAE\", \"MSE\", \"RMSE\", \"R2\"],\n",
    "    \"Accuracy score\" : [mae_acc, mse_acc, rmse_acc, r2_acc]\n",
    "})\n",
    "accuracy.sort_values(by = \"Accuracy score\")"
   ]
  },
  {
   "cell_type": "markdown",
   "metadata": {},
   "source": [
    "### RidgeCV"
   ]
  },
  {
   "cell_type": "code",
   "execution_count": 35,
   "metadata": {},
   "outputs": [
    {
     "data": {
      "text/html": [
       "<div>\n",
       "<style scoped>\n",
       "    .dataframe tbody tr th:only-of-type {\n",
       "        vertical-align: middle;\n",
       "    }\n",
       "\n",
       "    .dataframe tbody tr th {\n",
       "        vertical-align: top;\n",
       "    }\n",
       "\n",
       "    .dataframe thead th {\n",
       "        text-align: right;\n",
       "    }\n",
       "</style>\n",
       "<table border=\"1\" class=\"dataframe\">\n",
       "  <thead>\n",
       "    <tr style=\"text-align: right;\">\n",
       "      <th></th>\n",
       "      <th>Metric</th>\n",
       "      <th>Accuracy score</th>\n",
       "    </tr>\n",
       "  </thead>\n",
       "  <tbody>\n",
       "    <tr>\n",
       "      <th>3</th>\n",
       "      <td>R2</td>\n",
       "      <td>0.537804</td>\n",
       "    </tr>\n",
       "    <tr>\n",
       "      <th>0</th>\n",
       "      <td>MAE</td>\n",
       "      <td>208.212007</td>\n",
       "    </tr>\n",
       "    <tr>\n",
       "      <th>2</th>\n",
       "      <td>RMSE</td>\n",
       "      <td>269.122854</td>\n",
       "    </tr>\n",
       "    <tr>\n",
       "      <th>1</th>\n",
       "      <td>MSE</td>\n",
       "      <td>72427.110616</td>\n",
       "    </tr>\n",
       "  </tbody>\n",
       "</table>\n",
       "</div>"
      ],
      "text/plain": [
       "  Metric  Accuracy score\n",
       "3     R2        0.537804\n",
       "0    MAE      208.212007\n",
       "2   RMSE      269.122854\n",
       "1    MSE    72427.110616"
      ]
     },
     "execution_count": 35,
     "metadata": {},
     "output_type": "execute_result"
    }
   ],
   "source": [
    "RidgeCVReg = RidgeCV().fit(X_train, y_train)\n",
    "RidgeCVReg.score(X_train, y_train)\n",
    "# LinReg.coef_\n",
    "# LinReg.intercept_\n",
    "y_pred = RidgeCVReg.predict(X_test)\n",
    "\n",
    "mae_acc = mean_absolute_error(y_pred, y_test) \n",
    "mse_acc = mean_squared_error(y_pred, y_test) \n",
    "rmse_acc = mean_squared_error(y_pred, y_test, squared=False)\n",
    "r2_acc = r2_score(y_pred, y_test)\n",
    "\n",
    "accuracy = pd.DataFrame({\n",
    "    \"Metric\" : [\"MAE\", \"MSE\", \"RMSE\", \"R2\"],\n",
    "    \"Accuracy score\" : [mae_acc, mse_acc, rmse_acc, r2_acc]\n",
    "})\n",
    "accuracy.sort_values(by = \"Accuracy score\")"
   ]
  },
  {
   "cell_type": "markdown",
   "metadata": {},
   "source": [
    "### Fit All data and export"
   ]
  },
  {
   "cell_type": "code",
   "execution_count": 36,
   "metadata": {},
   "outputs": [],
   "source": [
    "models = [LinearRegression(), ]\n",
    "\n",
    "df_train = df_open.copy()\n",
    "y = df_train[\"plooking_pos_x\"]\n",
    "X = df_train.drop([\"plooking_pos_x\", \"plooking_pos_y\"], axis = 1)\n",
    "\n",
    "RidgeCVReg_x = LinearRegression().fit(X, y)"
   ]
  },
  {
   "cell_type": "code",
   "execution_count": 37,
   "metadata": {},
   "outputs": [],
   "source": [
    "df_train = df_open.copy()\n",
    "y = df_train[\"plooking_pos_y\"]\n",
    "X = df_train.drop([\"plooking_pos_x\", \"plooking_pos_y\"], axis = 1)\n",
    "\n",
    "RidgeCVReg_y = LinearRegression().fit(X, y)"
   ]
  },
  {
   "cell_type": "code",
   "execution_count": 38,
   "metadata": {},
   "outputs": [
    {
     "data": {
      "text/plain": [
       "['Models/LinReg_y.joblib']"
      ]
     },
     "execution_count": 38,
     "metadata": {},
     "output_type": "execute_result"
    }
   ],
   "source": [
    "from joblib import dump, load\n",
    "dump(RidgeCVReg_x, 'Models/LinReg_x.joblib')\n",
    "dump(RidgeCVReg_y, 'Models/LinReg_y.joblib')"
   ]
  }
 ],
 "metadata": {
  "kernelspec": {
   "display_name": "Python 3.8.3 64-bit",
   "language": "python",
   "name": "python3"
  },
  "language_info": {
   "codemirror_mode": {
    "name": "ipython",
    "version": 3
   },
   "file_extension": ".py",
   "mimetype": "text/x-python",
   "name": "python",
   "nbconvert_exporter": "python",
   "pygments_lexer": "ipython3",
   "version": "3.8.3"
  },
  "vscode": {
   "interpreter": {
    "hash": "9650cb4e16cdd4a8e8e2d128bf38d875813998db22a3c986335f89e0cb4d7bb2"
   }
  }
 },
 "nbformat": 4,
 "nbformat_minor": 4
}
